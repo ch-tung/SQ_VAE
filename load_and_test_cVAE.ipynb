{
 "cells": [
  {
   "cell_type": "markdown",
   "id": "efb96b1e",
   "metadata": {},
   "source": [
    "# Load and test the trained model"
   ]
  },
  {
   "cell_type": "code",
   "execution_count": null,
   "id": "de4512da",
   "metadata": {},
   "outputs": [],
   "source": [
    "# Chi-Huan Tung\n",
    "# National Tsing-Hua University\n",
    "# Aug 2021\n",
    "#\n",
    "# This notebook is based on the example of Convolutional Variational Autoencoder (CVAE)\n",
    "# on tensorflow.org/tutorials/generative/cvae"
   ]
  },
  {
   "cell_type": "markdown",
   "id": "cd61aa28",
   "metadata": {},
   "source": [
    "## Setup"
   ]
  },
  {
   "cell_type": "code",
   "execution_count": null,
   "id": "ffee5cfa",
   "metadata": {},
   "outputs": [],
   "source": [
    "from IPython import display\n",
    "\n",
    "import glob\n",
    "import imageio\n",
    "import matplotlib.pyplot as plt\n",
    "import numpy as np\n",
    "import PIL\n",
    "import tensorflow as tf\n",
    "import tensorflow_probability as tfp\n",
    "import time\n",
    "import scipy.interpolate as interp"
   ]
  },
  {
   "cell_type": "markdown",
   "id": "062bd42d",
   "metadata": {},
   "source": [
    "Assign device (GPU)"
   ]
  },
  {
   "cell_type": "code",
   "execution_count": null,
   "id": "713a4f51",
   "metadata": {},
   "outputs": [],
   "source": [
    "import os\n",
    "os.environ[\"CUDA_VISIBLE_DEVICES\"] = \"0\""
   ]
  },
  {
   "cell_type": "code",
   "execution_count": null,
   "id": "6b2ae52f",
   "metadata": {},
   "outputs": [],
   "source": [
    "physical_devices = tf.config.list_physical_devices('GPU') \n",
    "tf.config.experimental.set_memory_growth(physical_devices[0], True)"
   ]
  },
  {
   "cell_type": "markdown",
   "id": "6614d3c0",
   "metadata": {},
   "source": [
    "## Load data"
   ]
  },
  {
   "cell_type": "markdown",
   "id": "99a354d2",
   "metadata": {},
   "source": [
    "### Test set"
   ]
  },
  {
   "cell_type": "code",
   "execution_count": null,
   "id": "699e9c49",
   "metadata": {},
   "outputs": [],
   "source": [
    "# minimum sq\n",
    "sq_min = np.exp(-5)"
   ]
  },
  {
   "cell_type": "code",
   "execution_count": null,
   "id": "1c42a32b",
   "metadata": {},
   "outputs": [],
   "source": [
    "if 0:\n",
    "    X_file = '../data/input_grid_all_GPR80.csv'\n",
    "    Y_file = '../data/target_grid_all.csv'\n",
    "else:\n",
    "    X_file = '../data/input_random_all_GPR80.csv'\n",
    "    Y_file = '../data/target_random_all.csv'\n",
    "    \n",
    "fX_test = open(X_file, 'r', encoding='utf-8-sig')\n",
    "sq_test = np.genfromtxt(fX_test, delimiter=',').astype(np.float32)\n",
    "sq_test[sq_test<=0] = sq_min\n",
    "\n",
    "fY_test = open(Y_file, 'r', encoding='utf-8-sig')\n",
    "target_test = np.genfromtxt(fY_test, delimiter=',').astype(np.float32)"
   ]
  },
  {
   "cell_type": "code",
   "execution_count": null,
   "id": "b751e0b7",
   "metadata": {},
   "outputs": [],
   "source": [
    "sq_test.shape"
   ]
  },
  {
   "cell_type": "code",
   "execution_count": null,
   "id": "1bd8bcb4",
   "metadata": {},
   "outputs": [],
   "source": [
    "eta_test = target_test[:, 0]\n",
    "kappa_test = target_test[:, 1]\n",
    "Z_test = target_test[:, 3]\n",
    "A_test = target_test[:, 2]\n",
    "lnZ_test = np.log(Z_test)\n",
    "lnA_test = np.log(A_test)"
   ]
  },
  {
   "cell_type": "code",
   "execution_count": null,
   "id": "090ed92a",
   "metadata": {},
   "outputs": [],
   "source": [
    "sq_dim = sq_test.shape[1]\n",
    "sample_test_dim = sq_test.shape[0]"
   ]
  },
  {
   "cell_type": "markdown",
   "id": "2519143b",
   "metadata": {},
   "source": [
    "$Q\\cdot r_\\textrm{ave}$"
   ]
  },
  {
   "cell_type": "code",
   "execution_count": null,
   "id": "636cee27",
   "metadata": {},
   "outputs": [],
   "source": [
    "q = (np.arange(sq_dim)+1)*0.2\n",
    "q_rs = (np.arange(sq_dim)+1)*0.2\n",
    "q_rs_dim = q_rs.shape[0]"
   ]
  },
  {
   "cell_type": "markdown",
   "id": "19289f4d",
   "metadata": {},
   "source": [
    "Rescale"
   ]
  },
  {
   "cell_type": "code",
   "execution_count": null,
   "id": "fed3bedb",
   "metadata": {},
   "outputs": [],
   "source": [
    "r_eta_test = (eta_test/np.pi*6)**(-1/3)\n",
    "sq_test_rs = np.zeros((sample_test_dim,q_rs_dim),dtype='float32')\n",
    "for i in range(sample_test_dim):\n",
    "    qr_eta = q*r_eta_test[i]\n",
    "    interpolating_function_test = interp.interp1d(qr_eta[3:],sq_test[i,3:],\n",
    "                                                  fill_value='extrapolate',kind='linear')\n",
    "    sq_test_rs[i,:] = interpolating_function_test(q_rs)\n",
    "sq_test_rs[sq_test_rs<=0] = sq_min"
   ]
  },
  {
   "cell_type": "markdown",
   "id": "43a708e8",
   "metadata": {},
   "source": [
    "### Mask"
   ]
  },
  {
   "cell_type": "code",
   "execution_count": null,
   "id": "1ba833f1",
   "metadata": {},
   "outputs": [],
   "source": [
    "mask_length = 0\n",
    "sq_test_mask = sq_test_rs\n",
    "\n",
    "for i in range(sample_test_dim):\n",
    "    sq_test_mask[i,0:mask_length] = sq_test_mask[i,mask_length]"
   ]
  },
  {
   "cell_type": "markdown",
   "id": "24e9f6a8",
   "metadata": {},
   "source": [
    "### Preprocess/Postprocess"
   ]
  },
  {
   "cell_type": "code",
   "execution_count": null,
   "id": "31843470",
   "metadata": {},
   "outputs": [],
   "source": [
    "exp_scale = 3\n",
    "\n",
    "def f_inp(sq):\n",
    "    return np.log(sq)/exp_scale/2 + 0.5\n",
    "\n",
    "def f_out(predictions):\n",
    "    return np.exp((predictions*2-1)*exp_scale)"
   ]
  },
  {
   "cell_type": "markdown",
   "id": "3c92dc79",
   "metadata": {},
   "source": [
    "### Shuffle data"
   ]
  },
  {
   "cell_type": "code",
   "execution_count": null,
   "id": "16db83f5",
   "metadata": {},
   "outputs": [],
   "source": [
    "test_size = sq_test.shape[0]\n",
    "batch_size_test = 16\n",
    "num_examples_to_generate = 16\n",
    "\n",
    "# noises\n",
    "m_noise = 0.05\n",
    "test_dataset = (tf.data.Dataset.from_tensor_slices(f_inp(sq_test_mask)\n",
    "                +(np.random.rand(sq_test_mask.shape[0],sq_test_mask.shape[1])-0.5)*m_noise)\n",
    "                .shuffle(test_size, seed=74).batch(sample_test_dim))"
   ]
  },
  {
   "cell_type": "code",
   "execution_count": null,
   "id": "3d11a132",
   "metadata": {},
   "outputs": [],
   "source": [
    "# Pick a sample of the test set for generating output images\n",
    "for test_batch in test_dataset.take(1):\n",
    "    test_sample = test_batch[0:num_examples_to_generate, :]\n",
    "test_sample.shape"
   ]
  },
  {
   "cell_type": "markdown",
   "id": "e54e54b7",
   "metadata": {},
   "source": [
    "## Network architecture"
   ]
  },
  {
   "cell_type": "code",
   "execution_count": null,
   "id": "62da05e4",
   "metadata": {},
   "outputs": [],
   "source": [
    "class VAE(tf.keras.Model):\n",
    "    def __init__(self, latent_dim, sq_dim):\n",
    "        super(VAE, self).__init__()\n",
    "        self.latent_dim = latent_dim\n",
    "        regularizer = None\n",
    "        self.encoder = tf.keras.Sequential(\n",
    "        [\n",
    "            tf.keras.layers.InputLayer(input_shape=(sq_dim)),\n",
    "            tf.keras.layers.Reshape((sq_dim,1)),\n",
    "            tf.keras.layers.Conv1D(\n",
    "                filters=32, kernel_size=3, strides=2, activation='relu',\n",
    "                kernel_regularizer = regularizer,\n",
    "                name='conv1d_en'),\n",
    "            tf.keras.layers.Flatten(),\n",
    "            tf.keras.layers.Dense(\n",
    "                latent_dim + latent_dim, \n",
    "                kernel_regularizer = regularizer,\n",
    "                name='dense_en'),\n",
    "        ]\n",
    "        )\n",
    "        \n",
    "        self.decoder = tf.keras.Sequential(\n",
    "        [\n",
    "            tf.keras.layers.InputLayer(input_shape=(latent_dim,)),\n",
    "            tf.keras.layers.Dense(\n",
    "                40*32, activation=tf.nn.relu, \n",
    "                kernel_regularizer = regularizer,\n",
    "                name='dense_de'),\n",
    "            tf.keras.layers.Reshape(target_shape=(40, 32)),\n",
    "            tf.keras.layers.Conv1DTranspose(\n",
    "                filters=32, kernel_size=3, strides=2, padding='same', activation='relu',\n",
    "                kernel_regularizer = regularizer,\n",
    "                name='conv1dtrs_de'),\n",
    "            tf.keras.layers.Conv1DTranspose(\n",
    "                filters=1, kernel_size=3, strides=1, padding='same'),\n",
    "            tf.keras.layers.Reshape((sq_dim,))\n",
    "        ]\n",
    "        )\n",
    "        \n",
    "    @tf.function\n",
    "    def sample(self, eps=None):\n",
    "        if eps is None:\n",
    "            eps = tf.random.normal(shape=(1000, self.latent_dim))\n",
    "        return self.decode(eps, apply_sigmoid=True)\n",
    "    \n",
    "    def encode(self, x):\n",
    "        mean, logvar = tf.split(self.encoder(x), num_or_size_splits=2, axis=1)\n",
    "        return mean, logvar\n",
    "        \n",
    "    def reparameterize(self, mean, logvar):\n",
    "        eps = tf.random.normal(shape=mean.shape)\n",
    "        return eps * tf.exp(logvar * .5) + mean\n",
    "    \n",
    "    def decode(self, z, apply_sigmoid=False):\n",
    "        logits = self.decoder(z)\n",
    "        if apply_sigmoid:\n",
    "            probs = tf.sigmoid(logits)\n",
    "            return probs\n",
    "        return logits"
   ]
  },
  {
   "cell_type": "code",
   "execution_count": null,
   "id": "b28908a1",
   "metadata": {},
   "outputs": [],
   "source": [
    "latent_dim = 3\n",
    "model = VAE(latent_dim, q_rs_dim)"
   ]
  },
  {
   "cell_type": "markdown",
   "id": "f19b1b35",
   "metadata": {},
   "source": [
    "## Load and test model"
   ]
  },
  {
   "cell_type": "code",
   "execution_count": null,
   "id": "b5bdef21",
   "metadata": {},
   "outputs": [],
   "source": [
    "export_path = './saved_model/SQ_cVAE_MSE/'\n",
    "model_name = 'model_conv_stride2'\n",
    "export_name = export_path + model_name"
   ]
  },
  {
   "cell_type": "code",
   "execution_count": null,
   "id": "d85318fe",
   "metadata": {},
   "outputs": [],
   "source": [
    "reload_sm = model.load_weights(export_name, by_name=False, skip_mismatch=False, options=None)\n",
    "reload_sm.__dict__"
   ]
  },
  {
   "cell_type": "code",
   "execution_count": null,
   "id": "40fee4ea",
   "metadata": {},
   "outputs": [],
   "source": [
    "model_r = reload_sm._root\n",
    "#model_r.__dict__"
   ]
  },
  {
   "cell_type": "markdown",
   "id": "c2da235a",
   "metadata": {},
   "source": [
    "### Loaded network architecture"
   ]
  },
  {
   "cell_type": "code",
   "execution_count": null,
   "id": "8442cb22",
   "metadata": {},
   "outputs": [],
   "source": [
    "class VAE_r():\n",
    "    def __init__(self):\n",
    "        self.encoder = model_r.encoder\n",
    "        self.decoder = model_r.decoder\n",
    "        \n",
    "    @tf.function\n",
    "    def sample(self, eps=None):\n",
    "        if eps is None:\n",
    "            eps = tf.random.normal(shape=(1000, self.latent_dim))\n",
    "        return self.decode(eps, apply_sigmoid=True)\n",
    "    \n",
    "    def encode(self, x):\n",
    "        mean, logvar = tf.split(self.encoder(x), num_or_size_splits=2, axis=1)\n",
    "        return mean, logvar\n",
    "        \n",
    "    def reparameterize(self, mean, logvar):\n",
    "        eps = tf.random.normal(shape=mean.shape)\n",
    "        return eps * tf.exp(logvar * .5) + mean\n",
    "    \n",
    "    def decode(self, z, apply_sigmoid=False):\n",
    "        logits = self.decoder(z)\n",
    "        if apply_sigmoid:\n",
    "            probs = tf.sigmoid(logits)\n",
    "            return probs\n",
    "        return logits\n",
    "    \n",
    "M = VAE_r() # loaded model"
   ]
  },
  {
   "cell_type": "code",
   "execution_count": null,
   "id": "b38f3050",
   "metadata": {},
   "outputs": [],
   "source": [
    "def generate_test_images(model, test_sample):\n",
    "    mean, logvar = model.encode(test_sample)\n",
    "    z0 = mean\n",
    "    predictions_0 = model.sample(z0)\n",
    "    fig = plt.figure(figsize=(8, 8))\n",
    "    \n",
    "    # Confident interval\n",
    "    n_sample = 100\n",
    "    predictions_n = np.zeros((tf.size(test_sample),n_sample))\n",
    "    for i in range(n_sample):\n",
    "        z = model.reparameterize(mean, logvar)\n",
    "        predictions = model.sample(z)\n",
    "        predictions_n[:,i] = tf.reshape(predictions,tf.size(test_sample))\n",
    "        \n",
    "    predictions_m = np.zeros(tf.size(test_sample))\n",
    "    predictions_v = np.zeros(tf.size(test_sample))\n",
    "    for j in range(tf.size(test_sample)):\n",
    "        predictions_m[j] = np.mean(predictions_n[j,:])\n",
    "        predictions_v[j] = np.var(predictions_n[j,:])\n",
    "        \n",
    "    predictions_mean = tf.reshape(predictions_m,test_sample.shape)\n",
    "    predictions_var = tf.reshape(predictions_v,test_sample.shape)\n",
    "    predictions_std = np.sqrt(predictions_var)\n",
    "    \n",
    "    if 0:\n",
    "        window = 11\n",
    "        from scipy.signal import savgol_filter as sf\n",
    "        predictions_mean = sf(predictions_mean, window, 3)\n",
    "        predictions_std = sf(predictions_std, window, 3)\n",
    "    \n",
    "    predictions_u = predictions_mean + predictions_std\n",
    "    predictions_l = predictions_mean - predictions_std\n",
    "        \n",
    "    # plot\n",
    "    for i in range(test_sample.shape[0]):\n",
    "        plt.subplot(4, 4, i + 1)\n",
    "        #plt.plot(q_rs,f_out(predictions_0[i,:]),'b')   \n",
    "        plt.plot(q_rs,f_out(predictions_mean[i,:]),'b')   \n",
    "        #plt.plot(q_rs,f_out(predictions_u[i,:]),'c')  \n",
    "        #plt.plot(q_rs,f_out(predictions_l[i,:]),'c')\n",
    "        plt.fill_between(q_rs,f_out(predictions_u[i,:]),f_out(predictions_l[i,:]),color='c',alpha=0.5)\n",
    "        plt.plot(q_rs,f_out(test_sample[i,:]),'k')\n",
    "        #plt.axis('off')\n",
    "        plt.ylim(0, 3)\n",
    "\n",
    "    # tight_layout minimizes the overlap between 2 sub-plots\n",
    "    pngname = './figures_SQ_cVAE_MSE/test_SQ_cVAE_MSE.png'\n",
    "    plt.savefig(pngname)\n",
    "    plt.show()"
   ]
  },
  {
   "cell_type": "code",
   "execution_count": null,
   "id": "4aa24542",
   "metadata": {
    "scrolled": false
   },
   "outputs": [],
   "source": [
    "generate_test_images(M, test_sample)"
   ]
  },
  {
   "cell_type": "code",
   "execution_count": null,
   "id": "7c3bffe7",
   "metadata": {},
   "outputs": [],
   "source": []
  }
 ],
 "metadata": {
  "kernelspec": {
   "display_name": "Python 3",
   "language": "python",
   "name": "python3"
  },
  "language_info": {
   "codemirror_mode": {
    "name": "ipython",
    "version": 3
   },
   "file_extension": ".py",
   "mimetype": "text/x-python",
   "name": "python",
   "nbconvert_exporter": "python",
   "pygments_lexer": "ipython3",
   "version": "3.8.11"
  }
 },
 "nbformat": 4,
 "nbformat_minor": 5
}
