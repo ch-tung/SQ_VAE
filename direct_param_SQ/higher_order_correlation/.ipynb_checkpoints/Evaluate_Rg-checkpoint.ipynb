{
 "cells": [
  {
   "cell_type": "code",
   "execution_count": 1,
   "id": "87cb053c",
   "metadata": {},
   "outputs": [],
   "source": [
    "import numpy as np\n",
    "import matplotlib.pyplot as plt\n",
    "plt.rcParams[\"font.family\"] = \"Arial\"\n",
    "from tqdm import tqdm\n",
    "\n",
    "from rg import *"
   ]
  },
  {
   "cell_type": "code",
   "execution_count": 2,
   "id": "7a1ebefe",
   "metadata": {},
   "outputs": [],
   "source": [
    "# define time interval\n",
    "t = np.array([0])\n",
    "\n",
    "# define simulation inputs\n",
    "n_conf = 21\n",
    "n_particle = 16384\n",
    "n_frame = t.size\n",
    "rs = 6\n",
    "rc = 2\n",
    "\n",
    "# filename\n",
    "filename_GT = '11__0.218_0.267_3.678/'\n",
    "filename_NN = '11__0.225_0.3_3/'"
   ]
  },
  {
   "cell_type": "code",
   "execution_count": 3,
   "id": "f5169b80",
   "metadata": {},
   "outputs": [],
   "source": [
    "# load trajectory \n",
    "def eval_rg(filename_data):\n",
    "    rg_all_c = np.zeros((3,3,n_particle,n_conf))\n",
    "    for ic in tqdm(range(n_conf)):\n",
    "        string_conf = '{:09d}'.format(ic*500)\n",
    "        filename = './' + filename_data + 'dump.' + string_conf + '.txt'\n",
    "        r_all, l = loaddump(filename,n_particle,n_frame)\n",
    "        print('loaded '+filename)\n",
    "\n",
    "        L = l[:,1]-l[:,0]\n",
    "        rt = r_all[:,:,0]\n",
    "        sl = np.arange(0,n_particle,1)\n",
    "\n",
    "        rg_all = Rg_cov_matrix(rt, L, rc, sl)\n",
    "        rg_all_c[:,:,:,ic] = rg_all\n",
    "        \n",
    "    return rg_all_c\n",
    "    "
   ]
  },
  {
   "cell_type": "code",
   "execution_count": 4,
   "id": "fac51a25",
   "metadata": {},
   "outputs": [
    {
     "name": "stderr",
     "output_type": "stream",
     "text": [
      "\r",
      "  0%|                                                                                                                                 | 0/1 [00:00<?, ?it/s]"
     ]
    },
    {
     "name": "stdout",
     "output_type": "stream",
     "text": [
      "loaded ./11__0.218_0.267_3.678/dump.000000000.txt\n"
     ]
    },
    {
     "name": "stderr",
     "output_type": "stream",
     "text": [
      "100%|████████████████████████████████████████████████████████████████████████████████████████████████████████████████████████| 1/1 [02:12<00:00, 132.77s/it]\n"
     ]
    }
   ],
   "source": [
    "# GT\n",
    "rg_all = eval_rg(filename_GT)\n",
    "\n",
    "filename_rg = 'rg_py_GT.mat'\n",
    "\n",
    "mdic = {'rg_all':rg_all}\n",
    "savemat(filename_rg, mdic)"
   ]
  },
  {
   "cell_type": "code",
   "execution_count": 5,
   "id": "87042d3f",
   "metadata": {},
   "outputs": [
    {
     "data": {
      "text/plain": [
       "(3, 3, 16384, 21)"
      ]
     },
     "execution_count": 5,
     "metadata": {},
     "output_type": "execute_result"
    }
   ],
   "source": [
    "# NN\n",
    "rg_all = eval_rg(filename_NN)\n",
    "\n",
    "filename_rg = 'rg_py_NN.mat'\n",
    "\n",
    "mdic = {'rg_all':rg_all}\n",
    "savemat(filename_rg, mdic)"
   ]
  },
  {
   "cell_type": "code",
   "execution_count": 8,
   "id": "1cd9a585",
   "metadata": {},
   "outputs": [
    {
     "data": {
      "text/plain": [
       "array([[ 4.04441349e+00,  4.04248907e-02, -2.17867991e-03],\n",
       "       [ 4.04248907e-02,  4.00798143e+00, -3.71787834e-02],\n",
       "       [-2.17867991e-03, -3.71787834e-02,  4.05267189e+00]])"
      ]
     },
     "execution_count": 8,
     "metadata": {},
     "output_type": "execute_result"
    }
   ],
   "source": [
    "rg_all[:,:,0,0]"
   ]
  },
  {
   "cell_type": "code",
   "execution_count": 18,
   "id": "3acfdda6",
   "metadata": {},
   "outputs": [],
   "source": [
    "from scipy.io import loadmat\n",
    "filename_rg = 'rg_py_GT.mat'\n",
    "data_dict = loadmat(filename_rg)"
   ]
  },
  {
   "cell_type": "code",
   "execution_count": 19,
   "id": "6defde88",
   "metadata": {},
   "outputs": [
    {
     "data": {
      "text/plain": [
       "array([[ 3.85588709,  0.01370303,  0.01284617],\n",
       "       [ 0.01370303,  3.94373118, -0.02622623],\n",
       "       [ 0.01284617, -0.02622623,  3.94592776]])"
      ]
     },
     "execution_count": 19,
     "metadata": {},
     "output_type": "execute_result"
    }
   ],
   "source": [
    "data_dict['rg_all'][:,:,0,2]"
   ]
  },
  {
   "cell_type": "code",
   "execution_count": null,
   "id": "b69d92d1",
   "metadata": {},
   "outputs": [],
   "source": []
  }
 ],
 "metadata": {
  "kernelspec": {
   "display_name": "Python 3",
   "language": "python",
   "name": "python3"
  },
  "language_info": {
   "codemirror_mode": {
    "name": "ipython",
    "version": 3
   },
   "file_extension": ".py",
   "mimetype": "text/x-python",
   "name": "python",
   "nbconvert_exporter": "python",
   "pygments_lexer": "ipython3",
   "version": "3.8.11"
  }
 },
 "nbformat": 4,
 "nbformat_minor": 5
}
