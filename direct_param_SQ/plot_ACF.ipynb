{
 "cells": [
  {
   "cell_type": "code",
   "execution_count": 1,
   "id": "60efe826",
   "metadata": {},
   "outputs": [
    {
     "name": "stdout",
     "output_type": "stream",
     "text": [
      "2.10.0\n"
     ]
    }
   ],
   "source": [
    "import numpy as np\n",
    "import matplotlib.pyplot as plt\n",
    "plt.rcParams[\"font.family\"] = \"Arial\"\n",
    "import scipy.interpolate as interp\n",
    "import time\n",
    "from tqdm import tqdm\n",
    "from IPython import display\n",
    "\n",
    "import tensorflow as tf\n",
    "print(tf. __version__)\n",
    "\n",
    "from scipy.io import loadmat\n",
    "from scipy import linalg\n",
    "from scipy.special import lambertw as lambertw\n",
    "import numba as nb"
   ]
  },
  {
   "cell_type": "code",
   "execution_count": 2,
   "id": "14fa710d",
   "metadata": {},
   "outputs": [],
   "source": [
    "from SQ_NN import SQ_NN, SQ_NN_tf, Decoder_aug"
   ]
  },
  {
   "cell_type": "code",
   "execution_count": 3,
   "id": "70df3901",
   "metadata": {},
   "outputs": [
    {
     "name": "stdout",
     "output_type": "stream",
     "text": [
      "eta ~ N(0.2301,0.0157)\n",
      "kappa ~ N(0.2595,0.0193)\n",
      "A ~ N(12.9685,48.1309)\n"
     ]
    }
   ],
   "source": [
    "# Training set\n",
    "parameters_zscore = 0\n",
    "sq_min = np.exp(-5) # minimum of sq\n",
    "\n",
    "if 0:\n",
    "    X_file = './training_set/input_grid_all_GPR80.csv'\n",
    "    Y_file = './training_set/target_grid_all.csv'\n",
    "else:\n",
    "    X_file = './training_set/input_random_all_GPR80.csv'\n",
    "    Y_file = './training_set/target_random_all.csv'\n",
    "    \n",
    "fX = open(X_file, 'r', encoding='utf-8-sig')\n",
    "sq = np.genfromtxt(fX, delimiter=',').astype(np.float32)\n",
    "sq[sq<=0] = sq_min\n",
    "\n",
    "fY = open(Y_file, 'r', encoding='utf-8-sig')\n",
    "target = np.genfromtxt(fY, delimiter=',').astype(np.float32)\n",
    "\n",
    "eta = target[:,0]\n",
    "kappa = target[:,1]\n",
    "Z = target[:,3]\n",
    "A = target[:,2]\n",
    "lnZ = np.log(Z)\n",
    "lnA = np.log(A)\n",
    "\n",
    "eta_mean = np.mean(eta)\n",
    "eta_std = np.std(eta)\n",
    "kappa_mean = np.mean(kappa)\n",
    "kappa_std = np.std(kappa)\n",
    "A_mean = np.mean(A)\n",
    "A_std = np.std(A)\n",
    "\n",
    "# normalization\n",
    "eta_z = (eta-eta_mean)/eta_std\n",
    "kappa_z = (kappa-kappa_mean)/kappa_std\n",
    "A_z = (A-A_mean)/A_std\n",
    "\n",
    "if parameters_zscore:\n",
    "    parameters_train = np.array([eta_z,kappa_z,A_z]).T\n",
    "else:\n",
    "    parameters_train = np.array([eta,kappa,A]).T\n",
    "\n",
    "sq_dim = sq.shape[1]\n",
    "sample_train_dim = sq.shape[0]\n",
    "q = (np.arange(sq_dim)+1)*0.2\n",
    "q_rs = (np.arange(sq_dim)+1)*0.2\n",
    "q_rs_dim = q_rs.shape[0]\n",
    "\n",
    "# rescale\n",
    "r_eta = 1\n",
    "sq_rs = np.zeros((sample_train_dim,q_rs_dim),dtype='float32')\n",
    "for i in range(sample_train_dim):\n",
    "    qr_eta = q*r_eta\n",
    "    interpolating_function = interp.interp1d(qr_eta[3:],sq[i,3:],fill_value='extrapolate')\n",
    "    sq_rs[i,:] = interpolating_function(q_rs).astype(np.float32)\n",
    "sq_rs[sq_rs<=0] = sq_min\n",
    "\n",
    "print('eta ~ N({:0.4f},{:0.4f})'.format(np.mean(eta),np.var(eta)))\n",
    "print('kappa ~ N({:0.4f},{:0.4f})'.format(np.mean(kappa),np.var(kappa)))\n",
    "print('A ~ N({:0.4f},{:0.4f})'.format(np.mean(A),np.var(A)))"
   ]
  },
  {
   "cell_type": "code",
   "execution_count": 4,
   "id": "df3636c7",
   "metadata": {},
   "outputs": [],
   "source": [
    "# from scipy.io import loadmat\n",
    "# filename_EQSANS = './EQSANS.mat'\n",
    "# loaded_EQSANS = loadmat(filename_EQSANS)\n",
    "# q_EQSANS_0 = loaded_EQSANS['Q_real'][:,0]#.astype('float32')\n",
    "# qsig_EQSANS = loaded_EQSANS['qsig'][:,0]#.astype('float32')\n",
    "# data = loaded_EQSANS['data']#.astype('float32')\n",
    "# qsig_EQSANS[qsig_EQSANS==0] = np.ones(np.sum(qsig_EQSANS==0))*np.min(qsig_EQSANS[qsig_EQSANS!=0])\n",
    "# q_EQSANS = q_EQSANS_0*16/max(q_EQSANS_0)\n",
    "# qsig_EQSANS = qsig_EQSANS*16/max(q_EQSANS_0)\n",
    "\n",
    "data_EQSANS = np.loadtxt('./EQSANS.txt',delimiter=',',skiprows=2)\n",
    "q_EQSANS_0 = data_EQSANS[:,0]#.astype('float32')\n",
    "qsig_EQSANS = data_EQSANS[:,3]#.astype('float32')\n",
    "IQ_EQSANS = data_EQSANS[:,1]#.astype('float32')\n",
    "E_EQSANS = data_EQSANS[:,2]#.astype('float32')\n",
    "\n",
    "qsig_EQSANS[qsig_EQSANS==0] = np.ones(np.sum(qsig_EQSANS==0))*np.min(qsig_EQSANS[qsig_EQSANS!=0])\n",
    "q_EQSANS = q_EQSANS_0*16/max(q_EQSANS_0)\n",
    "qsig_EQSANS = qsig_EQSANS*16/max(q_EQSANS_0)"
   ]
  },
  {
   "cell_type": "code",
   "execution_count": 5,
   "id": "41d2f58a",
   "metadata": {},
   "outputs": [],
   "source": [
    "def hardsphere(q,sigma=1):\n",
    "    R = sigma/2\n",
    "    P = (3*(np.sin(q*R)-q*R*np.cos(q*R))/(q*R)**3)**2\n",
    "    return P\n",
    "\n",
    "def scale(q,x,scale):\n",
    "    qs = q*scale\n",
    "    f_interp = interp.interp1d(qs, x, fill_value='extrapolate')\n",
    "    x_interp = f_interp(q)\n",
    "    return x_interp\n",
    "\n",
    "def IQ_resoln(Q, Q_fine, IQ_th, dQ):\n",
    "    '''\n",
    "    Q: Q of the instrument resolution function\n",
    "    Q_fine: A set of smooth Q points\n",
    "    IQ_th: I(Q), interpolated to Q_fine\n",
    "    dQ: The instrument resolution function\n",
    "    '''\n",
    "    \n",
    "    Qmean = Q\n",
    "    N = len(Q)\n",
    "    IQ = []\n",
    "    \n",
    "    for i in range(N):\n",
    "        current_dQ = dQ[i]\n",
    "        current_Qmean = Qmean[i]\n",
    "        w_gauss = (1/np.sqrt(2*np.pi*current_dQ**2))*np.exp(-(Q_fine-current_Qmean)**2/(2*current_dQ**2))\n",
    "        IQ_resoln = IQ_th*w_gauss\n",
    "        \n",
    "        IQ.append(np.trapz(IQ_resoln,Q_fine)/np.trapz(w_gauss,Q_fine))\n",
    "\n",
    "    IQ_out = np.array(IQ)\n",
    "    return IQ_out\n",
    "\n",
    "def SQ_th(sq_func,fp):\n",
    "    # structure factor\n",
    "    return sq_func(fp[0:3])\n",
    "\n",
    "def IQ_th(sq_func,fp):\n",
    "    # form factor\n",
    "    P = hardsphere(q,1)\n",
    "\n",
    "    # structure factor\n",
    "    S = SQ_th(sq_func,fp)\n",
    "\n",
    "    # I(Q)\n",
    "    IQ = S*P*fp[4]+fp[5]\n",
    "\n",
    "    # resolution\n",
    "    Q = q_EQSANS\n",
    "    dQ = qsig_EQSANS\n",
    "    Q_fine = np.linspace(0.2,16,100)\n",
    "\n",
    "    f_interp = interp.interp1d(q,IQ)\n",
    "    IQ_Qfine = f_interp(Q_fine)\n",
    "    IQ_res = IQ_resoln(Q, Q_fine, IQ_Qfine, dQ)\n",
    "\n",
    "    IQ_res_scale = scale(Q,IQ_res,fp[3])\n",
    "    f_interp = interp.interp1d(Q,IQ_res_scale)\n",
    "    \n",
    "    IQ_res_scale_interp = f_interp(q_rs)\n",
    "    return IQ_res_scale_interp\n",
    "\n"
   ]
  },
  {
   "cell_type": "code",
   "execution_count": 6,
   "id": "04ccbc45",
   "metadata": {},
   "outputs": [],
   "source": [
    "def IQ_exp(sq_GT,fp):\n",
    "    # form factor\n",
    "    P = hardsphere(q,1)\n",
    "\n",
    "    # structure factor\n",
    "    S = sq_GT\n",
    "\n",
    "    # I(Q)\n",
    "    IQ = S*P*fp[4]+fp[5]\n",
    "\n",
    "    # resolution\n",
    "    Q = q_EQSANS\n",
    "    dQ = qsig_EQSANS\n",
    "    Q_fine = np.linspace(0.2,16,100)\n",
    "\n",
    "    f_interp = interp.interp1d(q,IQ)\n",
    "    IQ_Qfine = f_interp(Q_fine)\n",
    "    IQ_res = IQ_resoln(Q, Q_fine, IQ_Qfine, dQ)\n",
    "\n",
    "    IQ_res_scale = scale(Q,IQ_res,fp[3])\n",
    "    f_interp = interp.interp1d(Q,IQ_res_scale)\n",
    "\n",
    "    IQ_exp = f_interp(q_rs)\n",
    "    return IQ_exp"
   ]
  },
  {
   "cell_type": "code",
   "execution_count": 7,
   "id": "92d04e8f",
   "metadata": {},
   "outputs": [],
   "source": [
    "data = loadmat('IQ_SVD_rand.mat')\n",
    "IQ_exp_list = data['IQ_exp_list']\n",
    "sq_GT_list = data['sq_GT_list']\n",
    "fp_GT_list = data['fp_GT_list']"
   ]
  },
  {
   "cell_type": "code",
   "execution_count": 8,
   "id": "852f5a6f",
   "metadata": {},
   "outputs": [],
   "source": [
    "def SQ_HS(QDHS,phi):\n",
    "    Alpha = (1+2*phi)**2/(1-phi)**4\n",
    "    Beta = -6*phi*(1+phi/2)**2/(1-phi)**4\n",
    "    Gamma = phi*Alpha/2\n",
    "    G = lambda x: Alpha*(np.sin(x)-x*np.cos(x))/x**2 + Beta*(2*x*np.sin(x)+(2-x**2)*np.cos(x)-2)/x**3 + Gamma*(-x**4*np.cos(x)+4*((3*x**2-6)*np.cos(x)+(x**3-6*x)*np.sin(x)+6))/x**5\n",
    "    S_HS = 1/(1+24*phi*G(2*QDHS/2)/(2*QDHS/2))\n",
    "    return S_HS\n",
    "\n",
    "phi_list = (np.arange(100+1))/100*0.5\n",
    "IQ_HS_list = np.array([IQ_exp(SQ_HS(q,phi),fp=[0,0,0,1,1,0.01]) for phi in phi_list])"
   ]
  },
  {
   "cell_type": "markdown",
   "id": "70cfa7d1",
   "metadata": {},
   "source": [
    "## ACF"
   ]
  },
  {
   "cell_type": "code",
   "execution_count": 9,
   "id": "08f94c60",
   "metadata": {},
   "outputs": [],
   "source": [
    "F = IQ_exp_list - np.mean(IQ_exp_list,axis=0) # N by 80"
   ]
  },
  {
   "cell_type": "code",
   "execution_count": 10,
   "id": "40d7e0a9",
   "metadata": {},
   "outputs": [],
   "source": [
    "dr = 0.04\n",
    "n_bins = 80\n",
    "rr = (np.arange(n_bins))*dr\n",
    "n_particle = len(F)\n",
    "\n",
    "@nb.jit\n",
    "def c_r(weight):\n",
    "    sigma = 1e-12\n",
    "    c = np.zeros(n_bins)\n",
    "    g = np.zeros(n_bins) + np.ones(n_bins)*sigma\n",
    "    weight_mean = (np.sum(weight)/n_particle)\n",
    "    for j in range(n_particle):\n",
    "        for k in range(n_particle):\n",
    "            d_jk = np.sqrt(np.sum((F[j]-F[k])**2))\n",
    "            i_d_jk = np.floor(d_jk/dr)\n",
    "            if i_d_jk<n_bins:\n",
    "                c[int(i_d_jk)] += weight[j]*weight[k]/weight_mean**2\n",
    "                g[int(i_d_jk)] += 1\n",
    "    return c/g-1\n",
    "\n",
    "@nb.jit\n",
    "def c_r_center(weight):\n",
    "    c = np.zeros(n_bins)\n",
    "    v = np.zeros(n_bins)\n",
    "#     g = np.zeros(n_bins)\n",
    "    weight_mean = np.mean(weight)\n",
    "    weight_center = weight - weight_mean\n",
    "#     weight_z = weight_center/np.std(weight)\n",
    "    for j in range(n_particle):\n",
    "        for k in range(n_particle):\n",
    "            d_jk = np.sqrt(np.sum((F[j]-F[k])**2))\n",
    "            i_d_jk = np.floor(d_jk/dr)\n",
    "            if i_d_jk<n_bins:\n",
    "                c[int(i_d_jk)] += weight_center[j]*weight_center[k]\n",
    "                v[int(i_d_jk)] += weight_center[j]*weight_center[j]\n",
    "#                 g[int(i_d_jk)] += 1\n",
    "    c[0]=1\n",
    "    v[0]=1\n",
    "    return c/v"
   ]
  },
  {
   "cell_type": "code",
   "execution_count": 11,
   "id": "108315eb",
   "metadata": {},
   "outputs": [],
   "source": [
    "c_r_eta = c_r_center(eta)\n",
    "c_r_kappa = c_r_center(kappa)\n",
    "c_r_A = c_r_center(A)"
   ]
  },
  {
   "cell_type": "code",
   "execution_count": 12,
   "id": "394498c8",
   "metadata": {},
   "outputs": [
    {
     "data": {
      "image/png": "[encoded data removed]",
      "text/plain": [
       "<Figure size 600x600 with 1 Axes>"
      ]
     },
     "metadata": {},
     "output_type": "display_data"
    }
   ],
   "source": [
    "fig = plt.figure(figsize=(6,6))\n",
    "ax = fig.add_subplot()\n",
    "\n",
    "ax.plot(rr,c_r_eta,label=r'$\\phi$')\n",
    "ax.plot(rr,c_r_kappa,label=r'$1/\\kappa D$')\n",
    "ax.plot(rr,c_r_A,label=r'$\\beta AD$')\n",
    "\n",
    "ax.set_xlabel(r'$QD$',fontsize=20)\n",
    "ax.tick_params(axis='both', which='major', labelsize=20)\n",
    "ax.legend(fontsize=16,framealpha=0)\n",
    "\n",
    "ax.set_xlabel(r'$z$',fontsize=18)\n",
    "ax.set_ylabel(r'$C(z)$',fontsize=18)\n",
    "ax.tick_params(direction='in', axis='both', which='both', labelsize=16)\n",
    "\n",
    "plt.tight_layout()\n",
    "plt.show()"
   ]
  },
  {
   "cell_type": "code",
   "execution_count": null,
   "id": "8546cfe1",
   "metadata": {},
   "outputs": [],
   "source": []
  }
 ],
 "metadata": {
  "kernelspec": {
   "display_name": "Python 3",
   "language": "python",
   "name": "python3"
  },
  "language_info": {
   "codemirror_mode": {
    "name": "ipython",
    "version": 3
   },
   "file_extension": ".py",
   "mimetype": "text/x-python",
   "name": "python",
   "nbconvert_exporter": "python",
   "pygments_lexer": "ipython3",
   "version": "3.8.11"
  }
 },
 "nbformat": 4,
 "nbformat_minor": 5
}
