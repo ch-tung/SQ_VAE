{
 "cells": [
  {
   "cell_type": "code",
   "execution_count": 10,
   "metadata": {},
   "outputs": [],
   "source": [
    "import os\n",
    "import numpy as np\n",
    "from tqdm import tqdm\n",
    "\n",
    "import glob"
   ]
  },
  {
   "cell_type": "code",
   "execution_count": 23,
   "metadata": {},
   "outputs": [],
   "source": [
    "def extract_values_from_folder_name(folder_name):\n",
    "    # Split the folder_name using the correct separator for the operating system\n",
    "    separator = os.sep\n",
    "    parts = folder_name.split(separator)\n",
    "\n",
    "    # Extract the values from the folder name\n",
    "    try:\n",
    "        N = float(parts[-2].split('_')[0])\n",
    "        K = float(parts[-2].split('_')[1])\n",
    "        A = float(parts[-2].split('_')[2])\n",
    "        A1 = float(parts[-2].split('_')[3])\n",
    "        return N, K, A, A1\n",
    "    except ValueError:\n",
    "        # Handle cases where folder_name is not in the expected format\n",
    "        return None"
   ]
  },
  {
   "cell_type": "code",
   "execution_count": 30,
   "metadata": {},
   "outputs": [
    {
     "name": "stderr",
     "output_type": "stream",
     "text": [
      "100%|██████████| 31500/31500 [09:15<00:00, 56.71it/s]\n",
      "C:\\Users\\CHTUNG\\AppData\\Local\\Temp\\ipykernel_27544\\438377923.py:13: VisibleDeprecationWarning: Creating an ndarray from ragged nested sequences (which is a list-or-tuple of lists-or-tuples-or ndarrays with different lengths or shapes) is deprecated. If you meant to do this, you must specify 'dtype=object' when creating the ndarray.\n",
      "  SQ_list = np.array(SQ_list)\n"
     ]
    }
   ],
   "source": [
    "folder_pattern = './soq/*_*_*_*/'\n",
    "folder_list = glob.glob(file_pattern)\n",
    "\n",
    "parameters_list = []\n",
    "SQ_list = []\n",
    "\n",
    "for folder in tqdm(folder_list):\n",
    "    parameters_list.append(extract_values_from_folder_name(folder))\n",
    "    SQ_list.append(np.loadtxt(folder+'SOQ/soq.txt'))"
   ]
  },
  {
   "cell_type": "code",
   "execution_count": 35,
   "metadata": {},
   "outputs": [],
   "source": [
    "parameters_list = np.array(parameters_list)\n",
    "SQ_list = np.array(SQ_list)\n",
    "mdic = {'parameters_list':parameters_list, 'SQ_list':SQ_list}\n",
    "\n",
    "from scipy.io import savemat\n",
    "\n",
    "savemat('SQ_twoYukawa.mat',mdic)"
   ]
  },
  {
   "cell_type": "code",
   "execution_count": null,
   "metadata": {},
   "outputs": [],
   "source": []
  }
 ],
 "metadata": {
  "kernelspec": {
   "display_name": "Python 3",
   "language": "python",
   "name": "python3"
  },
  "language_info": {
   "codemirror_mode": {
    "name": "ipython",
    "version": 3
   },
   "file_extension": ".py",
   "mimetype": "text/x-python",
   "name": "python",
   "nbconvert_exporter": "python",
   "pygments_lexer": "ipython3",
   "version": "3.8.11"
  },
  "orig_nbformat": 4
 },
 "nbformat": 4,
 "nbformat_minor": 2
}
