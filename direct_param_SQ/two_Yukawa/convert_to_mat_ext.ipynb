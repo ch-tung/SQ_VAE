{
 "cells": [
  {
   "cell_type": "code",
   "execution_count": 1,
   "metadata": {},
   "outputs": [],
   "source": [
    "import os\n",
    "import numpy as np\n",
    "from tqdm import tqdm\n",
    "\n",
    "import numpy as np\n",
    "import matplotlib.pyplot as plt\n",
    "plt.rcParams[\"font.family\"] = \"Arial\"\n",
    "\n",
    "from scipy.signal import savgol_filter\n",
    "import scipy.interpolate as interp\n",
    "\n",
    "import glob"
   ]
  },
  {
   "cell_type": "code",
   "execution_count": 2,
   "metadata": {},
   "outputs": [],
   "source": [
    "def extract_values_from_folder_name(folder_name):\n",
    "    # Split the folder_name using the correct separator for the operating system\n",
    "    separator = os.sep\n",
    "    parts = folder_name.split(separator)\n",
    "\n",
    "    # Extract the values from the folder name\n",
    "    try:\n",
    "        N = float(parts[-2].split('_')[0])\n",
    "        K = float(parts[-2].split('_')[1])\n",
    "        A = float(parts[-2].split('_')[2])\n",
    "        A1 = float(parts[-2].split('_')[3])\n",
    "        return N, K, A, A1\n",
    "    except ValueError:\n",
    "        # Handle cases where folder_name is not in the expected format\n",
    "        return None"
   ]
  },
  {
   "cell_type": "code",
   "execution_count": 4,
   "metadata": {},
   "outputs": [
    {
     "name": "stderr",
     "output_type": "stream",
     "text": [
      "100%|██████████| 63000/63000 [03:55<00:00, 267.60it/s]\n"
     ]
    }
   ],
   "source": [
    "folder_pattern = './2023-07-27/*/*_*_*_*/'\n",
    "folder_list = glob.glob(folder_pattern)\n",
    "\n",
    "parameters_list = []\n",
    "SQ_list = []\n",
    "\n",
    "Q_interp = (np.arange(100)+1)*0.2\n",
    "\n",
    "for folder in tqdm(folder_list):\n",
    "    parameters_list.append(extract_values_from_folder_name(folder))\n",
    "    data_current = np.loadtxt(folder+'SOQ/soq.txt')\n",
    "    Q = data_current[1:,0]\n",
    "    SQ = data_current[1:,1]*16384\n",
    "    SQ_sm = savgol_filter(SQ, 127,2)\n",
    "    f_interp = interp.interp1d(Q, SQ_sm, kind='linear', fill_value='extrapolate')\n",
    "    SQ_interp = f_interp(Q_interp)\n",
    "\n",
    "    SQ_list.append(SQ_interp)"
   ]
  },
  {
   "cell_type": "code",
   "execution_count": 5,
   "metadata": {},
   "outputs": [],
   "source": [
    "# fig = plt.figure(figsize=(6, 6))#,dpi=192)\n",
    "# ax = plt.subplot(1, 1, 1)\n",
    "\n",
    "# ax.plot(Q, SQ)\n",
    "# ax.plot(Q, SQ_sm)\n",
    "# ax.plot(Q_interp, SQ_interp)\n",
    "\n",
    "# # ax.set_xscale('log')"
   ]
  },
  {
   "cell_type": "code",
   "execution_count": 6,
   "metadata": {},
   "outputs": [],
   "source": [
    "parameters_list = np.array(parameters_list)\n",
    "SQ_list = np.array(SQ_list)\n",
    "mdic = {'parameters_list':parameters_list, 'SQ_list':SQ_list}\n",
    "\n",
    "from scipy.io import savemat\n",
    "\n",
    "savemat('SQ_twoYukawa_ext.mat',mdic)"
   ]
  },
  {
   "cell_type": "code",
   "execution_count": null,
   "metadata": {},
   "outputs": [],
   "source": []
  }
 ],
 "metadata": {
  "kernelspec": {
   "display_name": "Python 3",
   "language": "python",
   "name": "python3"
  },
  "language_info": {
   "codemirror_mode": {
    "name": "ipython",
    "version": 3
   },
   "file_extension": ".py",
   "mimetype": "text/x-python",
   "name": "python",
   "nbconvert_exporter": "python",
   "pygments_lexer": "ipython3",
   "version": "3.9.17"
  },
  "orig_nbformat": 4
 },
 "nbformat": 4,
 "nbformat_minor": 2
}
