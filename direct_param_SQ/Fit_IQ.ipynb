{
 "cells": [
  {
   "cell_type": "code",
   "execution_count": 1,
   "id": "5b796bbf",
   "metadata": {},
   "outputs": [
    {
     "name": "stdout",
     "output_type": "stream",
     "text": [
      "2.10.0\n"
     ]
    }
   ],
   "source": [
    "import numpy as np\n",
    "import matplotlib.pyplot as plt\n",
    "plt.rcParams[\"font.family\"] = \"Arial\"\n",
    "import scipy.interpolate as interp\n",
    "import time\n",
    "from tqdm import tqdm\n",
    "from IPython import display\n",
    "import scipy.optimize as opt\n",
    "\n",
    "import tensorflow as tf\n",
    "print(tf. __version__)"
   ]
  },
  {
   "cell_type": "markdown",
   "id": "2ebe8fed",
   "metadata": {},
   "source": [
    "## Load model"
   ]
  },
  {
   "cell_type": "code",
   "execution_count": 2,
   "id": "e99523b3",
   "metadata": {},
   "outputs": [],
   "source": [
    "from SQ_NN import SQ_NN, SQ_NN_tf, Decoder_aug, sm_GP\n",
    "from RMSA import RMSA\n",
    "q_rs = (np.arange(80)+1)*0.2\n",
    "def SQ_RMSA(parameters):\n",
    "    return (RMSA(q_rs, 0.5, scl=parameters[1], gamma=parameters[2], eta=parameters[0]))[1]"
   ]
  },
  {
   "cell_type": "markdown",
   "id": "e44fa4b2",
   "metadata": {},
   "source": [
    "## Define functions"
   ]
  },
  {
   "cell_type": "code",
   "execution_count": 3,
   "id": "70f07300",
   "metadata": {},
   "outputs": [],
   "source": [
    "def hardsphere(q,sigma=1):\n",
    "    R = sigma/2\n",
    "    P = (3*(np.sin(q*R)-q*R*np.cos(q*R))/(q*R)**3)**2\n",
    "    return P\n",
    "\n",
    "def scale(q,x,scale):\n",
    "    qs = q*scale\n",
    "    f_interp = interp.interp1d(qs, x, fill_value='extrapolate')\n",
    "    x_interp = f_interp(q)\n",
    "    return x_interp\n",
    "\n",
    "def IQ_resoln(Q, Q_fine, IQ_th, dQ):\n",
    "    '''\n",
    "    Q: Q of the instrument resolution function\n",
    "    Q_fine: A set of smooth Q points\n",
    "    IQ_th: I(Q), interpolated to Q_fine\n",
    "    dQ: The instrument resolution function\n",
    "    '''\n",
    "    \n",
    "    Qmean = Q\n",
    "    N = len(Q)\n",
    "    IQ = []\n",
    "    \n",
    "    for i in range(N):\n",
    "        current_dQ = dQ[i]\n",
    "        current_Qmean = Qmean[i]\n",
    "        w_gauss = (1/np.sqrt(2*np.pi*current_dQ**2))*np.exp(-(Q_fine-current_Qmean)**2/(2*current_dQ**2))\n",
    "        IQ_resoln = IQ_th*w_gauss\n",
    "        \n",
    "        IQ.append(np.trapz(IQ_resoln,Q_fine)/np.trapz(w_gauss,Q_fine))\n",
    "\n",
    "    IQ_out = np.array(IQ)\n",
    "    return IQ_out\n",
    "\n",
    "def SQ_th(sq_func,fp):\n",
    "    # structure factor\n",
    "    return sq_func(fp[0:3])\n",
    "\n",
    "def IQ_th(sq_func,fp):\n",
    "    # form factor\n",
    "    P = hardsphere(q,1)\n",
    "\n",
    "    # structure factor\n",
    "    S = SQ_th(sq_func,fp)\n",
    "\n",
    "    # I(Q)\n",
    "    IQ = S*P*fp[4]+fp[5]\n",
    "\n",
    "    # resolution\n",
    "    Q = q_EQSANS\n",
    "    dQ = qsig_EQSANS\n",
    "    Q_fine = np.linspace(0.2,16,100)\n",
    "\n",
    "    f_interp = interp.interp1d(q,IQ)\n",
    "    IQ_Qfine = f_interp(Q_fine)\n",
    "    IQ_res = IQ_resoln(Q, Q_fine, IQ_Qfine, dQ)\n",
    "\n",
    "    IQ_res_scale = scale(Q,IQ_res,fp[3])\n",
    "    f_interp = interp.interp1d(Q,IQ_res_scale)\n",
    "    \n",
    "    IQ_res_scale_interp = f_interp(q_rs)\n",
    "    return IQ_res_scale_interp"
   ]
  },
  {
   "cell_type": "markdown",
   "id": "db76b183",
   "metadata": {},
   "source": [
    "## Load data"
   ]
  },
  {
   "cell_type": "code",
   "execution_count": 4,
   "id": "a4de275b",
   "metadata": {},
   "outputs": [
    {
     "name": "stdout",
     "output_type": "stream",
     "text": [
      "eta ~ N(0.2325,0.0169)\n",
      "kappa ~ N(0.2600,0.0208)\n",
      "A ~ N(13.0000,52.0000)\n"
     ]
    }
   ],
   "source": [
    "# Training set\n",
    "parameters_zscore = 0\n",
    "sq_min = np.exp(-5) # minimum of sq\n",
    "\n",
    "if 1:\n",
    "    X_file = './training_set/input_grid_all_GPR80.csv'\n",
    "    Y_file = './training_set/target_grid_all.csv'\n",
    "else:\n",
    "    X_file = './training_set/input_random_all_GPR80.csv'\n",
    "    Y_file = './training_set/target_random_all.csv'\n",
    "    \n",
    "fX = open(X_file, 'r', encoding='utf-8-sig')\n",
    "sq = np.genfromtxt(fX, delimiter=',').astype(np.float32)\n",
    "sq[sq<=0] = sq_min\n",
    "\n",
    "fY = open(Y_file, 'r', encoding='utf-8-sig')\n",
    "target = np.genfromtxt(fY, delimiter=',').astype(np.float32)\n",
    "\n",
    "eta = target[:,0]\n",
    "kappa = target[:,1]\n",
    "Z = target[:,3]\n",
    "A = target[:,2]\n",
    "lnZ = np.log(Z)\n",
    "lnA = np.log(A)\n",
    "\n",
    "eta_mean = np.mean(eta)\n",
    "eta_std = np.std(eta)\n",
    "kappa_mean = np.mean(kappa)\n",
    "kappa_std = np.std(kappa)\n",
    "A_mean = np.mean(A)\n",
    "A_std = np.std(A)\n",
    "\n",
    "# normalization\n",
    "eta_z = (eta-eta_mean)/eta_std\n",
    "kappa_z = (kappa-kappa_mean)/kappa_std\n",
    "A_z = (A-A_mean)/A_std\n",
    "\n",
    "if parameters_zscore:\n",
    "    parameters_train = np.array([eta_z,kappa_z,A_z]).T\n",
    "else:\n",
    "    parameters_train = np.array([eta,kappa,A]).T\n",
    "\n",
    "sq_dim = sq.shape[1]\n",
    "sample_train_dim = sq.shape[0]\n",
    "q = (np.arange(sq_dim)+1)*0.2\n",
    "q_rs = (np.arange(sq_dim)+1)*0.2\n",
    "q_rs_dim = q_rs.shape[0]\n",
    "\n",
    "# rescale\n",
    "r_eta = 1\n",
    "sq_rs = np.zeros((sample_train_dim,q_rs_dim),dtype='float32')\n",
    "for i in range(sample_train_dim):\n",
    "    qr_eta = q*r_eta\n",
    "    interpolating_function = interp.interp1d(qr_eta[3:],sq[i,3:],fill_value='extrapolate')\n",
    "    sq_rs[i,:] = interpolating_function(q_rs).astype(np.float32)\n",
    "sq_rs[sq_rs<=0] = sq_min\n",
    "\n",
    "print('eta ~ N({:0.4f},{:0.4f})'.format(np.mean(eta),np.var(eta)))\n",
    "print('kappa ~ N({:0.4f},{:0.4f})'.format(np.mean(kappa),np.var(kappa)))\n",
    "print('A ~ N({:0.4f},{:0.4f})'.format(np.mean(A),np.var(A)))"
   ]
  },
  {
   "cell_type": "markdown",
   "id": "59c4c2e7",
   "metadata": {},
   "source": [
    "### resolution"
   ]
  },
  {
   "cell_type": "code",
   "execution_count": 5,
   "id": "44c1ad09",
   "metadata": {},
   "outputs": [],
   "source": [
    "# from scipy.io import loadmat\n",
    "# filename_EQSANS = './EQSANS.mat'\n",
    "# loaded_EQSANS = loadmat(filename_EQSANS)\n",
    "# q_EQSANS_0 = loaded_EQSANS['Q_real'][:,0]#.astype('float32')\n",
    "# qsig_EQSANS = loaded_EQSANS['qsig'][:,0]#.astype('float32')\n",
    "# data = loaded_EQSANS['data']#.astype('float32')\n",
    "# qsig_EQSANS[qsig_EQSANS==0] = np.ones(np.sum(qsig_EQSANS==0))*np.min(qsig_EQSANS[qsig_EQSANS!=0])\n",
    "# q_EQSANS = q_EQSANS_0*16/max(q_EQSANS_0)\n",
    "# qsig_EQSANS = qsig_EQSANS*16/max(q_EQSANS_0)\n",
    "\n",
    "data_EQSANS = np.loadtxt('./EQSANS.txt',delimiter=',',skiprows=2)\n",
    "q_EQSANS_0 = data_EQSANS[:,0]#.astype('float32')\n",
    "qsig_EQSANS = data_EQSANS[:,3]#.astype('float32')\n",
    "IQ_EQSANS = data_EQSANS[:,1]#.astype('float32')\n",
    "E_EQSANS = data_EQSANS[:,2]#.astype('float32')\n",
    "\n",
    "qsig_EQSANS[qsig_EQSANS==0] = np.ones(np.sum(qsig_EQSANS==0))*np.min(qsig_EQSANS[qsig_EQSANS!=0])\n",
    "q_EQSANS = q_EQSANS_0*16/max(q_EQSANS_0)\n",
    "qsig_EQSANS = qsig_EQSANS*16/max(q_EQSANS_0)"
   ]
  },
  {
   "cell_type": "markdown",
   "id": "b607f2c8",
   "metadata": {},
   "source": [
    "## Select data and produce I(Q)"
   ]
  },
  {
   "cell_type": "code",
   "execution_count": 6,
   "id": "2c61c9fe",
   "metadata": {},
   "outputs": [
    {
     "name": "stdout",
     "output_type": "stream",
     "text": [
      "\n",
      "eta in\n",
      "[0.015 0.03  0.045 0.06  0.075 0.09  0.105 0.12  0.135 0.15  0.165 0.18\n",
      " 0.195 0.21  0.225 0.24  0.255 0.27  0.285 0.3   0.315 0.33  0.345 0.36\n",
      " 0.375 0.39  0.405 0.42  0.435 0.45 ]\n",
      "\n",
      "kappa in\n",
      "[0.02 0.04 0.06 0.08 0.1  0.12 0.14 0.16 0.18 0.2  0.22 0.24 0.26 0.28\n",
      " 0.3  0.32 0.34 0.36 0.38 0.4  0.42 0.44 0.46 0.48 0.5 ]\n",
      "\n",
      "A in\n",
      "[ 1.  2.  3.  4.  5.  6.  7.  8.  9. 10. 11. 12. 13. 14. 15. 16. 17. 18.\n",
      " 19. 20. 21. 22. 23. 24. 25.]\n"
     ]
    }
   ],
   "source": [
    "print('\\neta in')\n",
    "print(np.unique(eta))\n",
    "print('\\nkappa in')\n",
    "print(np.unique(kappa))\n",
    "print('\\nA in')\n",
    "print(np.unique(A))"
   ]
  },
  {
   "cell_type": "code",
   "execution_count": 7,
   "id": "4845529c",
   "metadata": {},
   "outputs": [],
   "source": [
    "# indexing\n",
    "def id_params(parameters):\n",
    "    tol = 1e-6\n",
    "    id_eta = np.abs(eta-parameters[0])<tol\n",
    "    id_kappa = np.abs(kappa-parameters[1])<tol\n",
    "    id_A = np.abs(A-parameters[2])<tol\n",
    "    return np.where(id_eta*id_kappa*id_A)[0]"
   ]
  },
  {
   "cell_type": "code",
   "execution_count": 8,
   "id": "3306824c",
   "metadata": {},
   "outputs": [],
   "source": [
    "# potential_list = np.array([[0.3,5.0],[0.5,10.0],[0.3,20.0]])\n",
    "# eta_list = np.array([0.015,0.105,0.3])\n",
    "\n",
    "# parameters = np.r_[eta_list[1],potential_list[1]]\n",
    "parameters = np.array([0.105, 0.5, 10.0])\n",
    "fp_GT = np.r_[parameters,np.array([1,1,0.01])]\n",
    "\n",
    "SQ_exp_GT = sq_rs[id_params(parameters),:][0]\n",
    "\n",
    "# sq_NN = SQ_NN(parameters)\n",
    "# sq_NN_GP = SQ_NN(parameters,GP=True)\n",
    "# sq_RMSA = SQ_RMSA(parameters)[1]"
   ]
  },
  {
   "cell_type": "code",
   "execution_count": 9,
   "id": "2ed16213",
   "metadata": {},
   "outputs": [
    {
     "data": {
      "image/png": "[encoded data removed]",
      "text/plain": [
       "<Figure size 600x600 with 1 Axes>"
      ]
     },
     "metadata": {},
     "output_type": "display_data"
    }
   ],
   "source": [
    "def IQ_exp(sq_GT,fp):\n",
    "    # form factor\n",
    "    P = hardsphere(q,1)\n",
    "\n",
    "    # structure factor\n",
    "    S = sq_GT\n",
    "\n",
    "    # I(Q)\n",
    "    IQ = S*P*fp[4]+fp[5]\n",
    "\n",
    "    # resolution\n",
    "    Q = q_EQSANS\n",
    "    dQ = qsig_EQSANS\n",
    "    Q_fine = np.linspace(0.2,16,100)\n",
    "\n",
    "    f_interp = interp.interp1d(q,IQ)\n",
    "    IQ_Qfine = f_interp(Q_fine)\n",
    "    IQ_res = IQ_resoln(Q, Q_fine, IQ_Qfine, dQ)\n",
    "\n",
    "    IQ_res_scale = scale(Q,IQ_res,fp[3])\n",
    "    f_interp = interp.interp1d(Q,IQ_res_scale)\n",
    "\n",
    "    IQ_exp = f_interp(q_rs)\n",
    "    return IQ_exp\n",
    "\n",
    "IQ_exp_GT = IQ_exp(SQ_exp_GT,fp_GT)\n",
    "IQ_exp_NN = IQ_th(SQ_NN,fp_GT)\n",
    "IQ_exp_RMSA = IQ_th(SQ_RMSA,fp_GT)\n",
    "\n",
    "fig = plt.figure(figsize=(6, 6))#,dpi=192)\n",
    "ax = plt.subplot(1, 1, 1)\n",
    "\n",
    "ax.plot(q,IQ_exp_GT)\n",
    "ax.plot(q,IQ_exp_NN)\n",
    "ax.plot(q,IQ_exp_RMSA)\n",
    "\n",
    "ax.set_xlabel(r'$QD$',fontsize=18)\n",
    "ax.set_ylabel(r'$I(QD)$',fontsize=18)\n",
    "ax.tick_params(direction='in', axis='both', which='both', labelsize=16)\n",
    "\n",
    "plt.show()"
   ]
  },
  {
   "cell_type": "markdown",
   "id": "d3741783",
   "metadata": {},
   "source": [
    "## Fit"
   ]
  },
  {
   "cell_type": "code",
   "execution_count": 10,
   "id": "ffa069f1",
   "metadata": {},
   "outputs": [],
   "source": [
    "tol = 1e-12\n",
    "def Fit_loss(sq_func,fp):\n",
    "#     return ((IQ_exp_GT)-(IQ_th(sq_func,fp)))[(q>=0)&(q<=16)]\n",
    "    return (np.log(IQ_exp_GT+tol)-np.log(IQ_th(sq_func,fp)+tol))[(q>=0)&(q<=16)]\n",
    "#     return (sm_GP((IQ_exp_GT)-(IQ_th(sq_func,fp)),lmbda=0.1,sigma=0.01))[(q>=0)&(q<=16)]"
   ]
  },
  {
   "cell_type": "code",
   "execution_count": 11,
   "id": "46677ff1",
   "metadata": {},
   "outputs": [],
   "source": [
    "'''\n",
    "Fitting parameters:\n",
    "fp = [eta, kappa, A, sigma, C, I_inc]\n",
    "\n",
    "I(Q) = C*P(Q)*S(Q) + I_inc\n",
    "sigma: scaling parameter\n",
    "'''\n",
    "\n",
    "fp_i =       [0.2,  0.35,   6,  1.0,  1.0,  0.01]\n",
    "fp_lbounds = (0.015, 0.02,   1,   0.1, 0.1,  0.001)\n",
    "fp_ubounds = (0.5,   0.5,   100,  2.0, 2.0,  0.1)\n",
    "fp_bounds = [fp_lbounds,fp_ubounds]\n",
    "fp_bounds_opt = opt.Bounds(lb=np.array(fp_lbounds), ub=np.array(fp_ubounds))\n",
    "\n",
    "fp_i = np.random.uniform(low=fp_lbounds, high=fp_ubounds)"
   ]
  },
  {
   "cell_type": "code",
   "execution_count": 12,
   "id": "5e9b77b3",
   "metadata": {},
   "outputs": [
    {
     "data": {
      "text/plain": [
       "array([4.48627304e-01, 4.57899671e-01, 6.53369114e+01, 1.72552868e+00,\n",
       "       2.40808066e-01, 1.24406492e-02])"
      ]
     },
     "execution_count": 12,
     "metadata": {},
     "output_type": "execute_result"
    }
   ],
   "source": [
    "fp_i"
   ]
  },
  {
   "cell_type": "code",
   "execution_count": 13,
   "id": "6bdbc6c1",
   "metadata": {},
   "outputs": [],
   "source": [
    "SQ_NN_GP = lambda x: SQ_NN(x,GP=True,lmbda=0.2)\n",
    "Fit_loss_NN = lambda x: Fit_loss(SQ_NN,x)\n",
    "Fit_loss_RMSA = lambda x: Fit_loss(SQ_RMSA,x)\n",
    "\n",
    "def func_IQ_NN_err(fp):\n",
    "    return np.mean((Fit_loss(SQ_NN,fp))**2)\n",
    "def func_IQ_RMSA_err(fp):\n",
    "    return np.mean((Fit_loss(SQ_RMSA,fp))**2)\n",
    "\n",
    "def func_minimize(func, fp_fix, fp_x0, index_x):\n",
    "    index_fixed = np.array([x for x in np.arange(len(fp_fix)) if not x in index_x])\n",
    "\n",
    "    def f(x,args):\n",
    "        fp = fp_fix\n",
    "        for i, index in enumerate(index_x):\n",
    "            fp[index] = x[i]\n",
    "        return func(fp)\n",
    "\n",
    "    x_bounds = opt.Bounds(lb=np.array(fp_lbounds)[index_x], ub=np.array(fp_ubounds)[index_x])\n",
    "\n",
    "    if len(index_fixed)==0:\n",
    "        args_fixed = None\n",
    "    else:\n",
    "        args_fixed = fp_fix[index_fixed]\n",
    "\n",
    "    opti = opt.minimize(f, x0=np.array(fp_x0)[index_x], args=args_fixed, \n",
    "                        method='L-BFGS-B',bounds=x_bounds,\n",
    "                        jac='3-point',\n",
    "#                         options={'maxiter':1000,'ftol':1e-16, 'gtol':1e-16},\n",
    "                        )\n",
    "    return opti"
   ]
  },
  {
   "cell_type": "code",
   "execution_count": 14,
   "id": "4a7894a4",
   "metadata": {},
   "outputs": [],
   "source": [
    "index_free=[0,1,2,4]\n",
    "opti_NN = func_minimize(func_IQ_NN_err, fp_fix=fp_GT.copy(), fp_x0=fp_i.copy(), index_x=index_free)\n",
    "opti_RMSA = func_minimize(func_IQ_RMSA_err, fp_fix=fp_GT.copy(), fp_x0=fp_i.copy(), index_x=index_free)\n",
    "\n",
    "fp_opt_NN = fp_GT.copy()\n",
    "for i, index in enumerate(index_free):\n",
    "    fp_opt_NN[index] = opti_NN.x[i]\n",
    "    \n",
    "fp_opt_RMSA = fp_GT.copy()\n",
    "for i, index in enumerate(index_free):\n",
    "    fp_opt_RMSA[index] = opti_RMSA.x[i]"
   ]
  },
  {
   "cell_type": "code",
   "execution_count": 15,
   "id": "9ddd8474",
   "metadata": {},
   "outputs": [
    {
     "data": {
      "text/plain": [
       "      fun: 0.00023639893406141718\n",
       " hess_inv: <4x4 LbfgsInvHessProduct with dtype=float64>\n",
       "      jac: array([-1.96697835e-03, -6.98867239e-04,  1.08361535e-05,  7.02375607e-05])\n",
       "  message: 'CONVERGENCE: REL_REDUCTION_OF_F_<=_FACTR*EPSMCH'\n",
       "     nfev: 819\n",
       "      nit: 60\n",
       "     njev: 91\n",
       "   status: 0\n",
       "  success: True\n",
       "        x: array([ 0.10294391,  0.4113461 , 11.09582905,  0.98974745])"
      ]
     },
     "execution_count": 15,
     "metadata": {},
     "output_type": "execute_result"
    }
   ],
   "source": [
    "opti_NN"
   ]
  },
  {
   "cell_type": "code",
   "execution_count": 16,
   "id": "3c03eb51",
   "metadata": {},
   "outputs": [
    {
     "data": {
      "image/png": "[encoded data removed]",
      "text/plain": [
       "<Figure size 600x600 with 1 Axes>"
      ]
     },
     "metadata": {},
     "output_type": "display_data"
    }
   ],
   "source": [
    "fig = plt.figure(figsize=(6, 6))#,dpi=192)\n",
    "ax = plt.subplot(1, 1, 1)\n",
    "\n",
    "ax.plot(q,IQ_exp_GT,'-k',lw=2,\n",
    "        label='ground truth')\n",
    "ax.plot(q,IQ_th(SQ_NN,fp_opt_NN),'-r',\n",
    "        label='NN')\n",
    "ax.plot(q,IQ_th(SQ_RMSA,fp_opt_RMSA),'-g',\n",
    "        label='RMSA')\n",
    "\n",
    "ax.set_yscale('log')\n",
    "ax.legend(fontsize=16,frameon=False,fancybox=False)\n",
    "\n",
    "ax.set_xlabel(r'$QD$',fontsize=18)\n",
    "ax.set_ylabel(r'$I(QD)$',fontsize=18)\n",
    "ax.tick_params(direction='in', axis='both', which='both', labelsize=16)\n",
    "\n",
    "plt.show()"
   ]
  },
  {
   "cell_type": "code",
   "execution_count": 17,
   "id": "9ece64d8",
   "metadata": {},
   "outputs": [],
   "source": [
    "#relative error\n",
    "fp_NN_err = (fp_opt_NN-fp_GT)/fp_GT\n",
    "fp_NN_RMSA = (fp_opt_RMSA-fp_GT)/fp_GT"
   ]
  },
  {
   "cell_type": "code",
   "execution_count": 18,
   "id": "dfa961c4",
   "metadata": {
    "scrolled": false
   },
   "outputs": [
    {
     "name": "stdout",
     "output_type": "stream",
     "text": [
      "Fitting Parameters\n",
      "eta     kappa   A    sigma   C     I_inc\n",
      "\n",
      "Ground Truth\n",
      "0.1050  0.5000  10.0000  1.0000  1.0000  0.0100\n",
      "\n",
      "SQ_NN\n",
      "0.1029  0.4113  11.0958  1.0000  0.9897  0.0100\n",
      "-1.96%  -17.73%  10.96%  0.00%  -1.03%  0.00%\n",
      "\n",
      "SQ_RMSA\n",
      "0.1064  0.5000  65.3363  1.0000  0.9956  0.0100\n",
      "1.29%  0.00%  553.36%  0.00%  -0.44%  0.00%\n",
      "\n"
     ]
    }
   ],
   "source": [
    "print('Fitting Parameters')\n",
    "print('eta     kappa   A    sigma   C     I_inc\\n')\n",
    "print('Ground Truth')\n",
    "print('{:0.4f}  {:0.4f}  {:0.4f}  {:0.4f}  {:0.4f}  {:0.4f}\\n'.format(*fp_GT))\n",
    "print('SQ_NN')\n",
    "print('{:0.4f}  {:0.4f}  {:0.4f}  {:0.4f}  {:0.4f}  {:0.4f}'.format(*fp_opt_NN))\n",
    "print('{:2.2f}%  {:2.2f}%  {:2.2f}%  {:2.2f}%  {:2.2f}%  {:2.2f}%\\n'.format(*fp_NN_err*100))\n",
    "print('SQ_RMSA')\n",
    "print('{:0.4f}  {:0.4f}  {:0.4f}  {:0.4f}  {:0.4f}  {:0.4f}'.format(*fp_opt_RMSA))\n",
    "print('{:2.2f}%  {:2.2f}%  {:2.2f}%  {:2.2f}%  {:2.2f}%  {:2.2f}%\\n'.format(*fp_NN_RMSA*100))"
   ]
  },
  {
   "cell_type": "code",
   "execution_count": 19,
   "id": "871c6634",
   "metadata": {},
   "outputs": [],
   "source": [
    "# def func_IQ_NN(q,eta,kappa,A,sigma,C,I_inc):\n",
    "#     return IQ_th(SQ_NN,[eta,kappa,A,sigma,C,I_inc])\n",
    "# def func_IQ_RMSA(q,eta,kappa,A,sigma,C,I_inc):\n",
    "#     return IQ_th(SQ_RMSA,[eta,kappa,A,sigma,C,I_inc])\n",
    "\n",
    "# fp_opt_NN, fpcov_NN = opt.curve_fit(func_IQ_NN, q, IQ_exp_GT, p0=fp_i)\n",
    "# fp_opt_RMSA, fpcov_RMSA = opt.curve_fit(func_IQ_RMSA, q, IQ_exp_GT, p0=fp_i)\n",
    "\n",
    "# opti_NN = opt.least_squares(Fit_loss_NN,\n",
    "#                             fp_i,bounds=fp_bounds, \n",
    "#                             xtol = 1e-15, ftol = 1e-15,\n",
    "#                             x_scale='jac')\n",
    "# opti_RMSA = opt.least_squares(Fit_loss_RMSA,\n",
    "#                               fp_i,bounds=fp_bounds, \n",
    "#                               xtol = 1e-15, ftol = 1e-15,\n",
    "#                               x_scale='jac')"
   ]
  },
  {
   "cell_type": "code",
   "execution_count": 20,
   "id": "9383584d",
   "metadata": {},
   "outputs": [],
   "source": [
    "# opti_NN = opt.minimize(func_IQ_NN_err, fp_i, \n",
    "#                        method='L-BFGS-B',bounds=fp_bounds_opt,\n",
    "#                        jac='3-point',\n",
    "#                        options={'ftol':1e-16, 'gtol':1e-16},\n",
    "#                       )\n",
    "# opti_RMSA = opt.minimize(func_IQ_RMSA_err, fp_i, \n",
    "#                          method='L-BFGS-B',bounds=fp_bounds_opt,\n",
    "#                          jac='3-point',\n",
    "# #                          options={'ftol':1e-16, 'gtol':1e-16},\n",
    "#                         )\n",
    "\n",
    "\n",
    "\n",
    "# fp_opt_NN = opti_NN.x\n",
    "# fp_opt_RMSA = opti_RMSA.x"
   ]
  }
 ],
 "metadata": {
  "kernelspec": {
   "display_name": "Python 3",
   "language": "python",
   "name": "python3"
  },
  "language_info": {
   "codemirror_mode": {
    "name": "ipython",
    "version": 3
   },
   "file_extension": ".py",
   "mimetype": "text/x-python",
   "name": "python",
   "nbconvert_exporter": "python",
   "pygments_lexer": "ipython3",
   "version": "3.8.11"
  }
 },
 "nbformat": 4,
 "nbformat_minor": 5
}
