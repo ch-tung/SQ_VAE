{
 "cells": [
  {
   "cell_type": "code",
   "execution_count": 1,
   "id": "3139bc6c",
   "metadata": {},
   "outputs": [
    {
     "name": "stdout",
     "output_type": "stream",
     "text": [
      "2.5.0\n"
     ]
    }
   ],
   "source": [
    "import numpy as np\n",
    "import matplotlib.pyplot as plt\n",
    "\n",
    "import tensorflow as tf\n",
    "print(tf. __version__)\n",
    "\n",
    "from SQ_decoder import SQ_decoder, to_tf"
   ]
  },
  {
   "cell_type": "code",
   "execution_count": 2,
   "id": "781f7562",
   "metadata": {
    "scrolled": true
   },
   "outputs": [
    {
     "data": {
      "image/png": "[encoded data removed]",
      "text/plain": [
       "<Figure size 400x200 with 1 Axes>"
      ]
     },
     "metadata": {},
     "output_type": "display_data"
    }
   ],
   "source": [
    "z_example = to_tf([0.159027  ,  0.14598719,  0.4])\n",
    "SQ_example = SQ_decoder(z_example)\n",
    "fig = plt.figure(figsize=(4, 2))\n",
    "ax = plt.subplot(1,1,1)\n",
    "ax.plot(SQ_example,'-r')\n",
    "plt.show()"
   ]
  },
  {
   "cell_type": "code",
   "execution_count": 3,
   "id": "a95cc8d9",
   "metadata": {},
   "outputs": [],
   "source": [
    "# define class VAE\n",
    "class VAE(tf.keras.Model):\n",
    "    def __init__(self, latent_dim, sq_dim):\n",
    "        super(VAE, self).__init__()\n",
    "        self.latent_dim = latent_dim\n",
    "        regularizer = None\n",
    "        self.encoder = tf.keras.Sequential(\n",
    "        [\n",
    "            tf.keras.layers.InputLayer(input_shape=(sq_dim)),\n",
    "            tf.keras.layers.Reshape((sq_dim,1)),\n",
    "            tf.keras.layers.Conv1D(\n",
    "                filters=32, kernel_size=3, strides=2, activation='relu',\n",
    "                kernel_regularizer = regularizer,\n",
    "                name='conv1d_en'),\n",
    "            tf.keras.layers.Flatten(),\n",
    "            tf.keras.layers.Dense(\n",
    "                latent_dim + latent_dim, \n",
    "                kernel_regularizer = regularizer,\n",
    "                name='dense_en'),\n",
    "        ]\n",
    "        )\n",
    "        \n",
    "        self.decoder = tf.keras.Sequential(\n",
    "        [\n",
    "            tf.keras.layers.InputLayer(input_shape=(latent_dim,)),\n",
    "            tf.keras.layers.Dense(\n",
    "                40*32, activation=tf.nn.relu, \n",
    "                kernel_regularizer = regularizer,\n",
    "                name='dense_de'),\n",
    "            tf.keras.layers.Reshape(target_shape=(40, 32)),\n",
    "            tf.keras.layers.Conv1DTranspose(\n",
    "                filters=32, kernel_size=3, strides=2, padding='same', activation='relu',\n",
    "                kernel_regularizer = regularizer,\n",
    "                name='conv1dtrs_de'),\n",
    "            tf.keras.layers.Conv1DTranspose(\n",
    "                filters=1, kernel_size=3, strides=1, padding='same'),\n",
    "            tf.keras.layers.Reshape((sq_dim,))\n",
    "        ]\n",
    "        )\n",
    "        \n",
    "    @tf.function\n",
    "    def sample(self, eps=None):\n",
    "        if eps is None:\n",
    "            eps = 0*tf.random.normal(shape=(1000, self.latent_dim))\n",
    "        return self.decode(eps, apply_sigmoid=True)\n",
    "    \n",
    "    def encode(self, x):\n",
    "        mean, logvar = tf.split(self.encoder(x), num_or_size_splits=2, axis=1)\n",
    "        return mean, logvar\n",
    "        \n",
    "    def reparameterize(self, mean, logvar):\n",
    "        eps = tf.random.normal(shape=mean.shape)\n",
    "        return eps * tf.exp(logvar * .5) + mean\n",
    "    \n",
    "    def decode(self, z, apply_sigmoid=False):\n",
    "        logits = self.decoder(z)\n",
    "        if apply_sigmoid:\n",
    "            probs = tf.sigmoid(logits)\n",
    "            return probs\n",
    "        return logits"
   ]
  },
  {
   "cell_type": "code",
   "execution_count": 4,
   "id": "75b77591",
   "metadata": {},
   "outputs": [
    {
     "name": "stdout",
     "output_type": "stream",
     "text": [
      "Model: \"sequential_3\"\n",
      "_________________________________________________________________\n",
      "Layer (type)                 Output Shape              Param #   \n",
      "=================================================================\n",
      "dense_de (Dense)             (None, 1280)              5120      \n",
      "_________________________________________________________________\n",
      "reshape_4 (Reshape)          (None, 40, 32)            0         \n",
      "_________________________________________________________________\n",
      "conv1dtrs_de (Conv1DTranspos (None, 80, 32)            3104      \n",
      "_________________________________________________________________\n",
      "conv1d_transpose_1 (Conv1DTr (None, 80, 1)             97        \n",
      "_________________________________________________________________\n",
      "reshape_5 (Reshape)          (None, 80)                0         \n",
      "=================================================================\n",
      "Total params: 8,321\n",
      "Trainable params: 8,321\n",
      "Non-trainable params: 0\n",
      "_________________________________________________________________\n"
     ]
    }
   ],
   "source": [
    "# load pre-trained decoder\n",
    "@tf.function\n",
    "def f_out_tf(predictions):\n",
    "    return tf.math.exp((predictions*2-1)*exp_scale)\n",
    "\n",
    "latent_dim = 3\n",
    "q_rs_dim = 80\n",
    "model = VAE(latent_dim, q_rs_dim)\n",
    "\n",
    "export_path = './saved_model/SQ_cVAE_MSE_ns/'\n",
    "model_name = 'model_conv_stride2_exp6'\n",
    "export_name = export_path + model_name\n",
    "\n",
    "reload_sm = model.load_weights(export_name, by_name=False, skip_mismatch=False, options=None)\n",
    "model_r = reload_sm._root\n",
    "decoder_loaded = model_r.decoder\n",
    "decoder_loaded.summary()"
   ]
  },
  {
   "cell_type": "code",
   "execution_count": 5,
   "id": "5a99ac4e",
   "metadata": {},
   "outputs": [
    {
     "name": "stdout",
     "output_type": "stream",
     "text": [
      "Model: \"sequential_4\"\n",
      "_________________________________________________________________\n",
      "Layer (type)                 Output Shape              Param #   \n",
      "=================================================================\n",
      "dense_in (Dense)             (None, 3)                 12        \n",
      "_________________________________________________________________\n",
      "dense_de (Dense)             (None, 1280)              5120      \n",
      "_________________________________________________________________\n",
      "reshape_4 (Reshape)          (None, 40, 32)            0         \n",
      "_________________________________________________________________\n",
      "conv1dtrs_de (Conv1DTranspos (None, 80, 32)            3104      \n",
      "_________________________________________________________________\n",
      "conv1d_transpose_1 (Conv1DTr (None, 80, 1)             97        \n",
      "_________________________________________________________________\n",
      "reshape_5 (Reshape)          (None, 80)                0         \n",
      "=================================================================\n",
      "Total params: 8,333\n",
      "Trainable params: 8,333\n",
      "Non-trainable params: 0\n",
      "_________________________________________________________________\n"
     ]
    }
   ],
   "source": [
    "# Add a dense layer to pre-trained decoder\n",
    "regularizer = None\n",
    "dense_3 = [\n",
    "    tf.keras.layers.InputLayer(input_shape=(3)),\n",
    "    tf.keras.layers.Dense(3, activation=tf.nn.relu, \n",
    "                kernel_regularizer = regularizer,\n",
    "                name='dense_in')]\n",
    "\n",
    "decoder_aug_layers = dense_3+decoder_loaded.layers\n",
    "decoder_aug = tf.keras.Sequential(decoder_aug_layers)\n",
    "decoder_aug.summary()"
   ]
  },
  {
   "cell_type": "code",
   "execution_count": 6,
   "id": "9b77425c",
   "metadata": {},
   "outputs": [
    {
     "name": "stdout",
     "output_type": "stream",
     "text": [
      "Model: \"sequential_4\"\n",
      "_________________________________________________________________\n",
      "Layer (type)                 Output Shape              Param #   \n",
      "=================================================================\n",
      "dense_in (Dense)             (None, 3)                 12        \n",
      "_________________________________________________________________\n",
      "dense_de (Dense)             (None, 1280)              5120      \n",
      "_________________________________________________________________\n",
      "reshape_4 (Reshape)          (None, 40, 32)            0         \n",
      "_________________________________________________________________\n",
      "conv1dtrs_de (Conv1DTranspos (None, 80, 32)            3104      \n",
      "_________________________________________________________________\n",
      "conv1d_transpose_1 (Conv1DTr (None, 80, 1)             97        \n",
      "_________________________________________________________________\n",
      "reshape_5 (Reshape)          (None, 80)                0         \n",
      "=================================================================\n",
      "Total params: 8,333\n",
      "Trainable params: 12\n",
      "Non-trainable params: 8,321\n",
      "_________________________________________________________________\n"
     ]
    }
   ],
   "source": [
    "# Freeze trainable\n",
    "for i, layers in enumerate(decoder_aug.layers):\n",
    "    if i>0:\n",
    "        decoder_aug.layers[i].trainable = False\n",
    "\n",
    "decoder_aug.summary()"
   ]
  },
  {
   "cell_type": "code",
   "execution_count": null,
   "id": "72ce7dec",
   "metadata": {},
   "outputs": [],
   "source": []
  }
 ],
 "metadata": {
  "kernelspec": {
   "display_name": "Python 3",
   "language": "python",
   "name": "python3"
  },
  "language_info": {
   "codemirror_mode": {
    "name": "ipython",
    "version": 3
   },
   "file_extension": ".py",
   "mimetype": "text/x-python",
   "name": "python",
   "nbconvert_exporter": "python",
   "pygments_lexer": "ipython3",
   "version": "3.8.11"
  }
 },
 "nbformat": 4,
 "nbformat_minor": 5
}
