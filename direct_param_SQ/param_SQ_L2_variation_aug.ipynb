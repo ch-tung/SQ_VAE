{
 "cells": [
  {
   "cell_type": "code",
   "execution_count": 1,
   "id": "3139bc6c",
   "metadata": {},
   "outputs": [
    {
     "name": "stdout",
     "output_type": "stream",
     "text": [
      "2.10.0\n",
      "Num GPUs Available:  1\n"
     ]
    }
   ],
   "source": [
    "import numpy as np\n",
    "import matplotlib.pyplot as plt\n",
    "import scipy.interpolate as interp\n",
    "import time\n",
    "from tqdm import tqdm\n",
    "from IPython import display\n",
    "\n",
    "import tensorflow as tf\n",
    "print(tf. __version__)\n",
    "\n",
    "from SQ_decoder import SQ_decoder, to_tf\n",
    "\n",
    "from train_NN import Train_NN, Train_NN_V\n",
    "print(\"Num GPUs Available: \", len(tf.config.list_physical_devices('GPU')))"
   ]
  },
  {
   "cell_type": "code",
   "execution_count": 2,
   "id": "2f0a50dc",
   "metadata": {},
   "outputs": [],
   "source": [
    "# define class VAE\n",
    "class VAE(tf.keras.Model):\n",
    "    def __init__(self, latent_dim, sq_dim):\n",
    "        super(VAE, self).__init__()\n",
    "        self.latent_dim = latent_dim\n",
    "        regularizer = tf.keras.regularizers.L2(1.0)\n",
    "        self.encoder = tf.keras.Sequential(\n",
    "        [\n",
    "            tf.keras.layers.InputLayer(input_shape=(sq_dim)),\n",
    "            tf.keras.layers.Reshape((sq_dim,1)),\n",
    "            tf.keras.layers.Conv1D(\n",
    "                filters=32, kernel_size=3, strides=2, activation='relu',\n",
    "                kernel_regularizer = regularizer,\n",
    "                bias_regularizer = regularizer,\n",
    "                name='conv1d_en'),\n",
    "            tf.keras.layers.Flatten(),\n",
    "            tf.keras.layers.Dense(\n",
    "                latent_dim + latent_dim, \n",
    "                kernel_regularizer = regularizer,\n",
    "                bias_regularizer = regularizer,\n",
    "                name='dense_en'),\n",
    "        ]\n",
    "        )\n",
    "        \n",
    "        self.decoder = tf.keras.Sequential(\n",
    "        [\n",
    "            tf.keras.layers.InputLayer(input_shape=(latent_dim,)),\n",
    "            tf.keras.layers.Dense(\n",
    "                40*32, activation=tf.nn.relu, \n",
    "                kernel_regularizer = regularizer,\n",
    "                bias_regularizer = regularizer,\n",
    "                name='dense_de'),\n",
    "            tf.keras.layers.Reshape(target_shape=(40, 32)),\n",
    "            tf.keras.layers.Conv1DTranspose(\n",
    "                filters=32, kernel_size=3, strides=2, padding='same', activation='relu',\n",
    "                kernel_regularizer = regularizer,\n",
    "                bias_regularizer = regularizer,\n",
    "                name='conv1dtrs_de'),\n",
    "            tf.keras.layers.Conv1DTranspose(\n",
    "                filters=1, kernel_size=3, strides=1, padding='same'),\n",
    "            tf.keras.layers.Reshape((sq_dim,))\n",
    "        ]\n",
    "        )\n",
    "        \n",
    "    @tf.function\n",
    "    def sample(self, eps=None):\n",
    "        if eps is None:\n",
    "            eps = 0*tf.random.normal(shape=(100, self.latent_dim))\n",
    "        return self.decode(eps, apply_sigmoid=True)\n",
    "    \n",
    "    def encode(self, x):\n",
    "        mean, logvar = tf.split(self.encoder(x), num_or_size_splits=2, axis=1)\n",
    "        return mean, logvar\n",
    "        \n",
    "    def reparameterize(self, mean, logvar):\n",
    "        eps = tf.random.normal(shape=mean.shape)\n",
    "        return eps * tf.exp(logvar * .5) + mean\n",
    "    \n",
    "    def decode(self, z, apply_sigmoid=False):\n",
    "        logits = self.decoder(z)\n",
    "        if apply_sigmoid:\n",
    "            probs = tf.sigmoid(logits)\n",
    "            return probs\n",
    "        return logits"
   ]
  },
  {
   "cell_type": "code",
   "execution_count": 3,
   "id": "75b77591",
   "metadata": {},
   "outputs": [
    {
     "name": "stdout",
     "output_type": "stream",
     "text": [
      "Model: \"sequential_1\"\n",
      "_________________________________________________________________\n",
      " Layer (type)                Output Shape              Param #   \n",
      "=================================================================\n",
      " dense_de (Dense)            (None, 1280)              5120      \n",
      "                                                                 \n",
      " reshape_1 (Reshape)         (None, 40, 32)            0         \n",
      "                                                                 \n",
      " conv1dtrs_de (Conv1DTranspo  (None, 80, 32)           3104      \n",
      " se)                                                             \n",
      "                                                                 \n",
      " conv1d_transpose (Conv1DTra  (None, 80, 1)            97        \n",
      " nspose)                                                         \n",
      "                                                                 \n",
      " reshape_2 (Reshape)         (None, 80)                0         \n",
      "                                                                 \n",
      "=================================================================\n",
      "Total params: 8,321\n",
      "Trainable params: 0\n",
      "Non-trainable params: 8,321\n",
      "_________________________________________________________________\n"
     ]
    }
   ],
   "source": [
    "# load pre-trained decoder\n",
    "latent_dim = 3\n",
    "q_rs_dim = 80\n",
    "model = VAE(latent_dim, q_rs_dim)\n",
    "\n",
    "export_path = './saved_model/SQ_cVAE_MSE_ns/'\n",
    "model_name = 'model_conv_stride2_exp6'\n",
    "export_name = export_path + model_name\n",
    "\n",
    "reload_sm = model.load_weights(export_name, by_name=False, skip_mismatch=False, options=None)\n",
    "model_r = reload_sm._root\n",
    "model_decoder = model_r.decoder\n",
    "\n",
    "# freeze loaded layers\n",
    "for i, layers in enumerate(model_decoder.layers):\n",
    "        model_decoder.layers[i].trainable = False\n",
    "\n",
    "model_decoder.summary()"
   ]
  },
  {
   "cell_type": "code",
   "execution_count": 4,
   "id": "ce619e5c",
   "metadata": {},
   "outputs": [],
   "source": [
    "# Augmented layers\n",
    "# Add a dense layer to pre-trained decoder\n",
    "regularizer = tf.keras.regularizers.L2(1.0)\n",
    "dense_3 = [\n",
    "    tf.keras.layers.InputLayer(input_shape=(3)),\n",
    "    tf.keras.layers.Dense(6, \n",
    "                kernel_regularizer = regularizer,\n",
    "                bias_regularizer = regularizer,\n",
    "                name='dense_in'),\n",
    "    tf.keras.layers.Dense(6, \n",
    "                kernel_regularizer = regularizer,\n",
    "                bias_regularizer = regularizer,\n",
    "                name='dense_in2'),]\n",
    "\n",
    "# # rescaling the dense layer to the value range of decoder input\n",
    "# rescale = [tf.keras.layers.Rescaling(scale=1.0, offset=0.0)]\n",
    "# rescale[0].trainable = False\n",
    "\n",
    "model_aug = tf.keras.Sequential(dense_3)#+rescale)"
   ]
  },
  {
   "cell_type": "code",
   "execution_count": 5,
   "id": "4baf1bb2",
   "metadata": {},
   "outputs": [],
   "source": [
    "class Decoder_aug(tf.keras.Model):\n",
    "    def __init__(self, latent_dim):\n",
    "        super(Decoder_aug,self).__init__()\n",
    "        self.latent_dim = latent_dim\n",
    "        self.aug_layers = model_aug\n",
    "        self.decoder_layers = model_decoder\n",
    "        \n",
    "    @tf.function\n",
    "    def sample(self, eps=None):\n",
    "        if eps is None:\n",
    "            eps = tf.random.normal(shape=(100, self.latent_dim))\n",
    "        return self.decode(eps, apply_sigmoid=True)\n",
    "    \n",
    "    def encode(self, x):\n",
    "        mean, logvar = tf.split(self.aug_layers(x), num_or_size_splits=2, axis=1)\n",
    "        return mean, logvar\n",
    "        \n",
    "    def reparameterize(self, mean, logvar):\n",
    "        eps = tf.random.normal(shape=mean.shape)\n",
    "        return eps * tf.exp(logvar * .5) + mean\n",
    "    \n",
    "    def decode(self, z, apply_sigmoid=False):\n",
    "        logits = self.decoder_layers(z)\n",
    "        if apply_sigmoid:\n",
    "            probs = tf.sigmoid(logits)\n",
    "            return probs\n",
    "        return logits\n",
    "    \n",
    "    def sample_normal(self, x):\n",
    "        mean, logvar = self.encode(x)\n",
    "        eps = tf.random.normal(shape=(100, self.latent_dim))\n",
    "#         z_samples = [e*tf.exp(logvar*.5) + mean for e in eps]\n",
    "#         logits_samples = [self.decode(z, apply_sigmoid=True) for z in z_samples]\n",
    "#         z_samples = eps*tf.exp(logvar*.5) + mean\n",
    "#         logits_samples = self.decode(z_samples, apply_sigmoid=True)\n",
    "        def zsample(e):\n",
    "            return e*tf.exp(logvar*.5) + mean\n",
    "        z_samples = tf.map_fn(zsample,eps)\n",
    "        def logitsample(z):\n",
    "            return self.decode(z, apply_sigmoid=True)\n",
    "        logits_samples = tf.map_fn(logitsample,z_samples)\n",
    "        \n",
    "        logits_std = tf.math.reduce_std(logits_samples,axis=0)\n",
    "        logits_mean = tf.math.reduce_mean(logits_samples,axis=0)\n",
    "        \n",
    "        return logits_mean, logits_std"
   ]
  },
  {
   "cell_type": "markdown",
   "id": "736ca4c6",
   "metadata": {},
   "source": [
    "## Load data"
   ]
  },
  {
   "cell_type": "code",
   "execution_count": 6,
   "id": "2b8e7194",
   "metadata": {},
   "outputs": [],
   "source": [
    "parameters_zscore = 1"
   ]
  },
  {
   "cell_type": "code",
   "execution_count": 7,
   "id": "7bd38aaf",
   "metadata": {},
   "outputs": [
    {
     "name": "stdout",
     "output_type": "stream",
     "text": [
      "eta ~ N(0.2325,0.0169)\n",
      "kappa ~ N(0.2600,0.0208)\n",
      "A ~ N(13.0000,52.0000)\n"
     ]
    }
   ],
   "source": [
    "# Training set\n",
    "sq_min = np.exp(-5) # minimum of sq\n",
    "\n",
    "if 1:\n",
    "    X_file = './training_set/input_grid_all_GPR80.csv'\n",
    "    Y_file = './training_set/target_grid_all.csv'\n",
    "else:\n",
    "    X_file = './training_set/input_random_all_GPR80.csv'\n",
    "    Y_file = './training_set/target_random_all.csv'\n",
    "    \n",
    "fX = open(X_file, 'r', encoding='utf-8-sig')\n",
    "sq = np.genfromtxt(fX, delimiter=',').astype(np.float32)\n",
    "sq[sq<=0] = sq_min\n",
    "\n",
    "fY = open(Y_file, 'r', encoding='utf-8-sig')\n",
    "target = np.genfromtxt(fY, delimiter=',').astype(np.float32)\n",
    "\n",
    "eta = target[:,0]\n",
    "kappa = target[:,1]\n",
    "Z = target[:,3]\n",
    "A = target[:,2]\n",
    "lnZ = np.log(Z)\n",
    "lnA = np.log(A)\n",
    "\n",
    "eta_mean = np.mean(eta)\n",
    "eta_std = np.std(eta)\n",
    "kappa_mean = np.mean(kappa)\n",
    "kappa_std = np.std(kappa)\n",
    "A_mean = np.mean(A)\n",
    "A_std = np.std(A)\n",
    "\n",
    "# normalization\n",
    "eta_z = (eta-eta_mean)/eta_std\n",
    "kappa_z = (kappa-kappa_mean)/kappa_std\n",
    "A_z = (A-A_mean)/A_std\n",
    "\n",
    "if parameters_zscore:\n",
    "    parameters_train = np.array([eta_z,kappa_z,A_z]).T\n",
    "else:\n",
    "    parameters_train = np.array([eta,kappa,A]).T\n",
    "\n",
    "sq_dim = sq.shape[1]\n",
    "sample_train_dim = sq.shape[0]\n",
    "q = (np.arange(sq_dim)+1)*0.2\n",
    "q_rs = (np.arange(sq_dim)+1)*0.2\n",
    "q_rs_dim = q_rs.shape[0]\n",
    "\n",
    "# rescale\n",
    "r_eta = 1\n",
    "sq_rs = np.zeros((sample_train_dim,q_rs_dim),dtype='float32')\n",
    "for i in range(sample_train_dim):\n",
    "    qr_eta = q*r_eta\n",
    "    interpolating_function = interp.interp1d(qr_eta[3:],sq[i,3:],fill_value='extrapolate')\n",
    "    sq_rs[i,:] = interpolating_function(q_rs).astype(np.float32)\n",
    "sq_rs[sq_rs<=0] = sq_min\n",
    "\n",
    "print('eta ~ N({:0.4f},{:0.4f})'.format(np.mean(eta),np.var(eta)))\n",
    "print('kappa ~ N({:0.4f},{:0.4f})'.format(np.mean(kappa),np.var(kappa)))\n",
    "print('A ~ N({:0.4f},{:0.4f})'.format(np.mean(A),np.var(A)))"
   ]
  },
  {
   "cell_type": "code",
   "execution_count": 8,
   "id": "8f63bc1e",
   "metadata": {},
   "outputs": [
    {
     "name": "stdout",
     "output_type": "stream",
     "text": [
      "eta ~ N(0.2301,0.0157)\n",
      "kappa ~ N(0.2595,0.0193)\n",
      "A ~ N(12.9685,48.1309)\n"
     ]
    }
   ],
   "source": [
    "# Test set\n",
    "if 0:\n",
    "    X_file = './training_set/input_grid_all_GPR80.csv'\n",
    "    Y_file = './training_set/target_grid_all.csv'\n",
    "else:\n",
    "    X_file = './training_set/input_random_all_GPR80.csv'\n",
    "    Y_file = './training_set/target_random_all.csv'\n",
    "    \n",
    "fX_test = open(X_file, 'r', encoding='utf-8-sig')\n",
    "sq_test = np.genfromtxt(fX_test, delimiter=',').astype(np.float32)\n",
    "sq_test[sq_test<=0] = sq_min\n",
    "\n",
    "fY_test = open(Y_file, 'r', encoding='utf-8-sig')\n",
    "target_test = np.genfromtxt(fY_test, delimiter=',').astype(np.float32)\n",
    "\n",
    "eta_test = target_test[:, 0]\n",
    "kappa_test = target_test[:, 1]\n",
    "Z_test = target_test[:, 3]\n",
    "A_test = target_test[:, 2]\n",
    "lnZ_test = np.log(Z_test)\n",
    "lnA_test = np.log(A_test)\n",
    "\n",
    "# normalization\n",
    "eta_test_z = (eta_test-eta_mean)/eta_std\n",
    "kappa_test_z = (kappa_test-kappa_mean)/kappa_std\n",
    "A_test_z = (A_test-A_mean)/A_std\n",
    "\n",
    "if parameters_zscore:\n",
    "    parameters_test = np.array([eta_test_z,kappa_test_z,A_test_z]).T\n",
    "else:\n",
    "    parameters_test = np.array([eta_test,kappa_test,A_test]).T\n",
    "\n",
    "sample_test_dim = sq_test.shape[0]\n",
    "\n",
    "# Rescale\n",
    "r_eta_test = 1\n",
    "sq_test_rs = np.zeros((sample_test_dim,q_rs_dim),dtype='float32')\n",
    "for i in range(sample_test_dim):\n",
    "    qr_eta = q*r_eta_test\n",
    "    interpolating_function_test = interp.interp1d(qr_eta[3:],sq_test[i,3:],fill_value='extrapolate')\n",
    "    sq_test_rs[i,:] = interpolating_function_test(q_rs)\n",
    "sq_test_rs[sq_test_rs<=0] = sq_min\n",
    "\n",
    "print('eta ~ N({:0.4f},{:0.4f})'.format(np.mean(eta_test),np.var(eta_test)))\n",
    "print('kappa ~ N({:0.4f},{:0.4f})'.format(np.mean(kappa_test),np.var(kappa_test)))\n",
    "print('A ~ N({:0.4f},{:0.4f})'.format(np.mean(A_test),np.var(A_test)))"
   ]
  },
  {
   "cell_type": "markdown",
   "id": "231bc0d6",
   "metadata": {},
   "source": [
    "Preprocess/Postprocess"
   ]
  },
  {
   "cell_type": "code",
   "execution_count": 9,
   "id": "66670010",
   "metadata": {},
   "outputs": [],
   "source": [
    "# Mask\n",
    "mask_length = 0\n",
    "sq_mask = sq_rs\n",
    "sq_test_mask = sq_test_rs\n",
    "\n",
    "for i in range(sample_train_dim):\n",
    "    sq_mask[i,0:mask_length] = sq_rs[i,mask_length]\n",
    "for i in range(sample_test_dim):\n",
    "    sq_test_mask[i,0:mask_length] = sq_test_mask[i,mask_length]\n",
    "\n",
    "# rescale the training set SQ to range [0,1]\n",
    "exp_scale = 6\n",
    "def f_inp(sq):\n",
    "    return np.log(sq)/exp_scale/2 + 0.5\n",
    "\n",
    "def f_out(sq_pred):\n",
    "    return np.exp((sq_pred*2-1)*exp_scale) # inverse of f_inp\n",
    "\n",
    "@tf.function\n",
    "def f_inp_tf(sq_pred):\n",
    "    return tf.math.log(sq)/exp_scale/2 + 0.5\n",
    "\n",
    "def f_out_tf(sq_pred):\n",
    "    return tf.math.exp((sq_pred*2-1)*exp_scale)\n",
    "\n",
    "# transform the decoder output to SQ\n",
    "def f_out_sample(x):\n",
    "    return f_out_tf(tf.sigmoid(x))\n",
    "\n",
    "# rescale the fitting parameters to range [0,1]\n",
    "def fp_inp(parameters):\n",
    "    return np.log(parameters)/exp_scale/2\n",
    "\n",
    "def fp_out(parameters_pred):\n",
    "    return np.exp((parameters_pred*2)*exp_scale)\n",
    "\n",
    "\n",
    "\n",
    "# def f_inp2(sq):\n",
    "#     return np.log(sq/4.5)/1.5/2 + 0.5\n",
    "\n",
    "# def f_out2(sq_pred):\n",
    "#     return tf.math.exp((sq_pred*2-1)*1.5)*4.5\n"
   ]
  },
  {
   "cell_type": "markdown",
   "id": "dc0ff5f7",
   "metadata": {},
   "source": [
    "## Shuffle data"
   ]
  },
  {
   "cell_type": "code",
   "execution_count": 10,
   "id": "eaba3404",
   "metadata": {},
   "outputs": [
    {
     "name": "stdout",
     "output_type": "stream",
     "text": [
      "training set size = 18750 \n",
      "test set size = 15000\n"
     ]
    }
   ],
   "source": [
    "# Merge sets\n",
    "train_size = sq.shape[0]\n",
    "test_size = sq_test.shape[0]\n",
    "print('training set size = {} \\ntest set size = {}'.format(train_size,test_size))\n",
    "    \n",
    "batch_size = 64\n",
    "batch_size_test = 1000\n",
    "\n",
    "train_SQ_dataset = (tf.data.Dataset.from_tensor_slices(f_inp(sq_mask))\n",
    "                 .shuffle(train_size, seed=6174).batch(batch_size))\n",
    "test_SQ_dataset = (tf.data.Dataset.from_tensor_slices(f_inp(sq_test_mask))\n",
    "                .shuffle(test_size, seed=6174).batch(batch_size_test))\n",
    "\n",
    "train_parameters_dataset = (tf.data.Dataset.from_tensor_slices((parameters_train))\n",
    "                 .shuffle(train_size, seed=6174).batch(batch_size))\n",
    "test_parameters_dataset = (tf.data.Dataset.from_tensor_slices((parameters_test))\n",
    "                .shuffle(test_size, seed=6174).batch(batch_size_test))"
   ]
  },
  {
   "cell_type": "code",
   "execution_count": 11,
   "id": "6efe4d9b",
   "metadata": {},
   "outputs": [],
   "source": [
    "# Pick a sample of the test set for generating output images\n",
    "# no random\n",
    "i = 0\n",
    "for test_SQ_batch in train_SQ_dataset:\n",
    "    if i == 6:\n",
    "        test_SQ_sample = test_SQ_batch[0:16, :]\n",
    "    i+=1\n",
    "i = 0\n",
    "for test_parameters_batch in train_parameters_dataset:\n",
    "    if i == 6:\n",
    "        test_parameters_sample = test_parameters_batch[0:16, :]\n",
    "    i+=1"
   ]
  },
  {
   "cell_type": "markdown",
   "id": "c6bd4c00",
   "metadata": {},
   "source": [
    "## Training"
   ]
  },
  {
   "cell_type": "code",
   "execution_count": 12,
   "id": "c655bfd3",
   "metadata": {},
   "outputs": [],
   "source": [
    "decoder_aug = Decoder_aug(latent_dim=3)\n",
    "model = decoder_aug"
   ]
  },
  {
   "cell_type": "code",
   "execution_count": 13,
   "id": "3549dc24",
   "metadata": {},
   "outputs": [
    {
     "name": "stdout",
     "output_type": "stream",
     "text": [
      "Model: \"sequential_2\"\n",
      "_________________________________________________________________\n",
      " Layer (type)                Output Shape              Param #   \n",
      "=================================================================\n",
      " dense_in (Dense)            (None, 6)                 24        \n",
      "                                                                 \n",
      " dense_in2 (Dense)           (None, 6)                 42        \n",
      "                                                                 \n",
      "=================================================================\n",
      "Total params: 66\n",
      "Trainable params: 66\n",
      "Non-trainable params: 0\n",
      "_________________________________________________________________\n",
      "Model: \"sequential_1\"\n",
      "_________________________________________________________________\n",
      " Layer (type)                Output Shape              Param #   \n",
      "=================================================================\n",
      " dense_de (Dense)            (None, 1280)              5120      \n",
      "                                                                 \n",
      " reshape_1 (Reshape)         (None, 40, 32)            0         \n",
      "                                                                 \n",
      " conv1dtrs_de (Conv1DTranspo  (None, 80, 32)           3104      \n",
      " se)                                                             \n",
      "                                                                 \n",
      " conv1d_transpose (Conv1DTra  (None, 80, 1)            97        \n",
      " nspose)                                                         \n",
      "                                                                 \n",
      " reshape_2 (Reshape)         (None, 80)                0         \n",
      "                                                                 \n",
      "=================================================================\n",
      "Total params: 8,321\n",
      "Trainable params: 0\n",
      "Non-trainable params: 8,321\n",
      "_________________________________________________________________\n"
     ]
    }
   ],
   "source": [
    "model.aug_layers.summary()\n",
    "model.decoder_layers.summary()"
   ]
  },
  {
   "cell_type": "code",
   "execution_count": 14,
   "id": "58a7f837",
   "metadata": {},
   "outputs": [],
   "source": [
    "def regularizer_loss(model):\n",
    "    loss=0\n",
    "    for l in model.layers:\n",
    "        if hasattr(l,'kernel_regularizer') and l.kernel_regularizer:\n",
    "            loss+=l.losses[0]\n",
    "        if hasattr(l,'bias_regularizer') and l.bias_regularizer:\n",
    "            loss+=l.losses[1]\n",
    "    return loss"
   ]
  },
  {
   "cell_type": "code",
   "execution_count": 15,
   "id": "2245bda4",
   "metadata": {},
   "outputs": [],
   "source": [
    "@tf.function\n",
    "def compute_loss_l2(parameters, SQ, model):\n",
    "    # SQ rescaled to range [0,1]\n",
    "    \n",
    "    mean, logvar = model.encode(parameters)\n",
    "    eps = model.reparameterize(mean, logvar)\n",
    "    SQ_pred = model.sample(eps)\n",
    "    \n",
    "    err_l2 = tf.reduce_mean((SQ_pred-SQ)**2)\n",
    "    loss = err_l2 + regularizer_loss(model.aug_layers)/66*0.01\n",
    "    \n",
    "    return loss"
   ]
  },
  {
   "cell_type": "markdown",
   "id": "aa714cf1",
   "metadata": {},
   "source": [
    "### Train the additional layers"
   ]
  },
  {
   "cell_type": "code",
   "execution_count": 16,
   "id": "9caac2d6",
   "metadata": {},
   "outputs": [],
   "source": [
    "train_rate = 1e-2\n",
    "batch_size = 64\n",
    "batch_size_test = 1000\n",
    "n_epoch = 250\n",
    "f_loss=compute_loss_l2"
   ]
  },
  {
   "cell_type": "code",
   "execution_count": 17,
   "id": "42ee5cce",
   "metadata": {},
   "outputs": [],
   "source": [
    "data_train = [train_SQ_dataset,train_parameters_dataset]\n",
    "data_test = [test_SQ_dataset,test_parameters_dataset]\n",
    "\n",
    "fig_path = './figures/SQ_L2_variation/'\n",
    "model_path = './saved_model/SQ_L2_variation/'\n",
    "\n",
    "\n",
    "train_NN_0 = Train_NN_V(n_epoch,batch_size,batch_size_test,train_rate,f_loss,model,\n",
    "                      data_train, data_test, test_SQ_sample, test_parameters_sample,\n",
    "                      fig_path,model_path)"
   ]
  },
  {
   "cell_type": "code",
   "execution_count": 18,
   "id": "11fb85d4",
   "metadata": {},
   "outputs": [
    {
     "data": {
      "image/png": "[encoded data removed]",
      "text/plain": [
       "<Figure size 800x800 with 16 Axes>"
      ]
     },
     "metadata": {},
     "output_type": "display_data"
    },
    {
     "name": "stderr",
     "output_type": "stream",
     "text": [
      "100%|█████████████████████████████████████████████████████████████████████████████████████████████████████████████████████| 250/250 [12:48<00:00,  3.08s/it]\n"
     ]
    }
   ],
   "source": [
    "train_NN_0.fit()"
   ]
  },
  {
   "cell_type": "code",
   "execution_count": 19,
   "id": "81c06318",
   "metadata": {},
   "outputs": [
    {
     "name": "stdout",
     "output_type": "stream",
     "text": [
      "Model: \"sequential_2\"\n",
      "_________________________________________________________________\n",
      " Layer (type)                Output Shape              Param #   \n",
      "=================================================================\n",
      " dense_in (Dense)            (None, 6)                 24        \n",
      "                                                                 \n",
      " dense_in2 (Dense)           (None, 6)                 42        \n",
      "                                                                 \n",
      "=================================================================\n",
      "Total params: 66\n",
      "Trainable params: 66\n",
      "Non-trainable params: 0\n",
      "_________________________________________________________________\n"
     ]
    }
   ],
   "source": [
    "train_NN_0.model.aug_layers.summary()"
   ]
  },
  {
   "cell_type": "code",
   "execution_count": 20,
   "id": "534b47e3",
   "metadata": {},
   "outputs": [
    {
     "name": "stdout",
     "output_type": "stream",
     "text": [
      "Model: \"sequential_1\"\n",
      "_________________________________________________________________\n",
      " Layer (type)                Output Shape              Param #   \n",
      "=================================================================\n",
      " dense_de (Dense)            (None, 1280)              5120      \n",
      "                                                                 \n",
      " reshape_1 (Reshape)         (None, 40, 32)            0         \n",
      "                                                                 \n",
      " conv1dtrs_de (Conv1DTranspo  (None, 80, 32)           3104      \n",
      " se)                                                             \n",
      "                                                                 \n",
      " conv1d_transpose (Conv1DTra  (None, 80, 1)            97        \n",
      " nspose)                                                         \n",
      "                                                                 \n",
      " reshape_2 (Reshape)         (None, 80)                0         \n",
      "                                                                 \n",
      "=================================================================\n",
      "Total params: 8,321\n",
      "Trainable params: 0\n",
      "Non-trainable params: 8,321\n",
      "_________________________________________________________________\n"
     ]
    }
   ],
   "source": [
    "train_NN_0.model.decoder_layers.summary()"
   ]
  },
  {
   "cell_type": "code",
   "execution_count": 21,
   "id": "3e9531f3",
   "metadata": {},
   "outputs": [],
   "source": [
    "# Save trained model\n",
    "train_NN_0.save_model_aug(model_path_sub = 'SQ_L2_variation_aug/', model_name='SQ_L2_variation_aug')"
   ]
  },
  {
   "cell_type": "code",
   "execution_count": 22,
   "id": "539c1ec6",
   "metadata": {},
   "outputs": [],
   "source": [
    "# Save training errors\n",
    "from scipy.io import loadmat, savemat\n",
    "mdic = {'err_test':train_NN_0.err_test_epoch,\n",
    "       'err_train':train_NN_0.err_train_epoch,\n",
    "       'err_validate':train_NN_0.err_validate_epoch}\n",
    "\n",
    "savemat(model_path+'SQ_L2_variation_aug_err.mat', mdic)"
   ]
  },
  {
   "cell_type": "markdown",
   "id": "74f3ab13",
   "metadata": {},
   "source": [
    "# for testing\n",
    "z_example = to_tf([0.159027 , 0.14598719, 0.4]) \n",
    "lv = tf.reshape(to_tf(z_example),(1,3))\n",
    "decoder_aug_test = Decoder_aug(latent_dim=3) \n",
    "mean, logvar = decoder_aug_test.encode(lv)\n",
    "eps = tf.random.normal(shape=(100, decoder_aug_test.latent_dim))\n",
    "z_samples = eps*tf.exp(logvar*.5) + mean\n",
    "logits_samples = decoder_aug_test.decode(z_samples, apply_sigmoid=True)\n",
    "tf.math.reduce_std(logits_samples,axis=0)\n",
    "\n",
    "def zsample(e):\n",
    "    return e*tf.exp(logvar*.5) + mean\n",
    "z_samples = tf.map_fn(zsample,eps)\n",
    "def logitsample(z):\n",
    "    return decoder_aug_test.decode(z, apply_sigmoid=True)\n",
    "logits_samples = tf.map_fn(logitsample,z_samples)\n",
    "\n",
    "logits_samples"
   ]
  },
  {
   "cell_type": "code",
   "execution_count": null,
   "id": "74c19a25",
   "metadata": {},
   "outputs": [],
   "source": []
  }
 ],
 "metadata": {
  "kernelspec": {
   "display_name": "Python 3",
   "language": "python",
   "name": "python3"
  },
  "language_info": {
   "codemirror_mode": {
    "name": "ipython",
    "version": 3
   },
   "file_extension": ".py",
   "mimetype": "text/x-python",
   "name": "python",
   "nbconvert_exporter": "python",
   "pygments_lexer": "ipython3",
   "version": "3.8.11"
  }
 },
 "nbformat": 4,
 "nbformat_minor": 5
}
