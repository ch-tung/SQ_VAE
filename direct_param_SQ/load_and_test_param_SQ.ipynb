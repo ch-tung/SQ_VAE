{
 "cells": [
  {
   "cell_type": "code",
   "execution_count": 1,
   "id": "af311fce",
   "metadata": {},
   "outputs": [
    {
     "name": "stdout",
     "output_type": "stream",
     "text": [
      "2.10.0\n"
     ]
    }
   ],
   "source": [
    "import numpy as np\n",
    "import matplotlib.pyplot as plt\n",
    "import scipy.interpolate as interp\n",
    "import time\n",
    "from tqdm import tqdm\n",
    "from IPython import display\n",
    "\n",
    "import tensorflow as tf\n",
    "print(tf. __version__)"
   ]
  },
  {
   "cell_type": "code",
   "execution_count": 2,
   "id": "9391bd80",
   "metadata": {},
   "outputs": [],
   "source": [
    "from SQ_NN import SQ_NN"
   ]
  },
  {
   "cell_type": "code",
   "execution_count": 3,
   "id": "bfd1d97a",
   "metadata": {},
   "outputs": [
    {
     "name": "stdout",
     "output_type": "stream",
     "text": [
      "eta ~ N(0.2325,0.0169)\n",
      "kappa ~ N(0.2600,0.0208)\n",
      "A ~ N(13.0000,52.0000)\n"
     ]
    }
   ],
   "source": [
    "# Training set\n",
    "parameters_zscore = 0\n",
    "sq_min = np.exp(-5) # minimum of sq\n",
    "\n",
    "if 1:\n",
    "    X_file = './training_set/input_grid_all_GPR80.csv'\n",
    "    Y_file = './training_set/target_grid_all.csv'\n",
    "else:\n",
    "    X_file = './training_set/input_random_all_GPR80.csv'\n",
    "    Y_file = './training_set/target_random_all.csv'\n",
    "    \n",
    "fX = open(X_file, 'r', encoding='utf-8-sig')\n",
    "sq = np.genfromtxt(fX, delimiter=',').astype(np.float32)\n",
    "sq[sq<=0] = sq_min\n",
    "\n",
    "fY = open(Y_file, 'r', encoding='utf-8-sig')\n",
    "target = np.genfromtxt(fY, delimiter=',').astype(np.float32)\n",
    "\n",
    "eta = target[:,0]\n",
    "kappa = target[:,1]\n",
    "Z = target[:,3]\n",
    "A = target[:,2]\n",
    "lnZ = np.log(Z)\n",
    "lnA = np.log(A)\n",
    "\n",
    "eta_mean = np.mean(eta)\n",
    "eta_std = np.std(eta)\n",
    "kappa_mean = np.mean(kappa)\n",
    "kappa_std = np.std(kappa)\n",
    "A_mean = np.mean(A)\n",
    "A_std = np.std(A)\n",
    "\n",
    "# normalization\n",
    "eta_z = (eta-eta_mean)/eta_std\n",
    "kappa_z = (kappa-kappa_mean)/kappa_std\n",
    "A_z = (A-A_mean)/A_std\n",
    "\n",
    "if parameters_zscore:\n",
    "    parameters_train = np.array([eta_z,kappa_z,A_z]).T\n",
    "else:\n",
    "    parameters_train = np.array([eta,kappa,A]).T\n",
    "\n",
    "sq_dim = sq.shape[1]\n",
    "sample_train_dim = sq.shape[0]\n",
    "q = (np.arange(sq_dim)+1)*0.2\n",
    "q_rs = (np.arange(sq_dim)+1)*0.2\n",
    "q_rs_dim = q_rs.shape[0]\n",
    "\n",
    "# rescale\n",
    "r_eta = 1\n",
    "sq_rs = np.zeros((sample_train_dim,q_rs_dim),dtype='float32')\n",
    "for i in range(sample_train_dim):\n",
    "    qr_eta = q*r_eta\n",
    "    interpolating_function = interp.interp1d(qr_eta[3:],sq[i,3:],fill_value='extrapolate')\n",
    "    sq_rs[i,:] = interpolating_function(q_rs).astype(np.float32)\n",
    "sq_rs[sq_rs<=0] = sq_min\n",
    "\n",
    "print('eta ~ N({:0.4f},{:0.4f})'.format(np.mean(eta),np.var(eta)))\n",
    "print('kappa ~ N({:0.4f},{:0.4f})'.format(np.mean(kappa),np.var(kappa)))\n",
    "print('A ~ N({:0.4f},{:0.4f})'.format(np.mean(A),np.var(A)))"
   ]
  },
  {
   "cell_type": "code",
   "execution_count": 4,
   "id": "3af73d46",
   "metadata": {},
   "outputs": [
    {
     "name": "stdout",
     "output_type": "stream",
     "text": [
      "\n",
      "eta in\n",
      "[0.015 0.03  0.045 0.06  0.075 0.09  0.105 0.12  0.135 0.15  0.165 0.18\n",
      " 0.195 0.21  0.225 0.24  0.255 0.27  0.285 0.3   0.315 0.33  0.345 0.36\n",
      " 0.375 0.39  0.405 0.42  0.435 0.45 ]\n",
      "\n",
      "kappa in\n",
      "[0.02 0.04 0.06 0.08 0.1  0.12 0.14 0.16 0.18 0.2  0.22 0.24 0.26 0.28\n",
      " 0.3  0.32 0.34 0.36 0.38 0.4  0.42 0.44 0.46 0.48 0.5 ]\n",
      "\n",
      "A in\n",
      "[ 1.  2.  3.  4.  5.  6.  7.  8.  9. 10. 11. 12. 13. 14. 15. 16. 17. 18.\n",
      " 19. 20. 21. 22. 23. 24. 25.]\n"
     ]
    }
   ],
   "source": [
    "print('\\neta in')\n",
    "print(np.unique(eta))\n",
    "print('\\nkappa in')\n",
    "print(np.unique(kappa))\n",
    "print('\\nA in')\n",
    "print(np.unique(A))"
   ]
  },
  {
   "cell_type": "code",
   "execution_count": 5,
   "id": "4b0c9693",
   "metadata": {},
   "outputs": [],
   "source": [
    "# indexing\n",
    "def id_params(parameters):\n",
    "    tol = 1e-6\n",
    "    id_eta = np.abs(eta-parameters[0])<tol\n",
    "    id_kappa = np.abs(kappa-parameters[1])<tol\n",
    "    id_A = np.abs(A-parameters[2])<tol\n",
    "    return np.where(id_eta*id_kappa*id_A)[0]"
   ]
  },
  {
   "cell_type": "code",
   "execution_count": 6,
   "id": "f58343ba",
   "metadata": {},
   "outputs": [],
   "source": [
    "parameters = [0.45,0.24,10]\n",
    "sq_GT = sq_rs[id_params(parameters),:][0]\n",
    "sq_NN = SQ_NN(parameters)"
   ]
  },
  {
   "cell_type": "code",
   "execution_count": 7,
   "id": "8a00bdd5",
   "metadata": {},
   "outputs": [
    {
     "data": {
      "image/png": "[encoded data removed]",
      "text/plain": [
       "<Figure size 640x480 with 1 Axes>"
      ]
     },
     "metadata": {},
     "output_type": "display_data"
    }
   ],
   "source": [
    "plt.plot(sq_GT,'-k')\n",
    "plt.plot(sq_NN,'-r')\n",
    "plt.show()"
   ]
  },
  {
   "cell_type": "code",
   "execution_count": null,
   "id": "53183c22",
   "metadata": {},
   "outputs": [],
   "source": []
  }
 ],
 "metadata": {
  "kernelspec": {
   "display_name": "Python 3",
   "language": "python",
   "name": "python3"
  },
  "language_info": {
   "codemirror_mode": {
    "name": "ipython",
    "version": 3
   },
   "file_extension": ".py",
   "mimetype": "text/x-python",
   "name": "python",
   "nbconvert_exporter": "python",
   "pygments_lexer": "ipython3",
   "version": "3.8.11"
  }
 },
 "nbformat": 4,
 "nbformat_minor": 5
}
